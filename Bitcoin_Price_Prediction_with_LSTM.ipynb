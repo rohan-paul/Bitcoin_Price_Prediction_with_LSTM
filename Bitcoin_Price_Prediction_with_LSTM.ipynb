{
 "cells": [
  {
   "cell_type": "markdown",
   "metadata": {},
   "source": [
    "<h1 style=\"font-size:250%; font-family:cursive; color:#ff6666;\"><b>𝗕𝗶𝘁𝗰𝗼𝗶𝗻 𝗣𝗿𝗶𝗰𝗲 𝗣𝗿𝗲𝗱𝗶𝗰𝘁𝗶𝗼𝗻 𝘄𝗶𝘁𝗵 𝗟𝗦𝗧𝗠 - Detailed Video in my YouTube Channel</b><a id=\"0\"></a></h1>\n",
    "\n",
    "<a href=\"https://bit.ly/3mXnKGH\"><h1 style=\"font-size:250%; font-family:cursive; color:#ff6666;\"><b>Link to my YouTube Video</b></h1></a>\n",
    "\n",
    "[![IMAGE ALT TEXT](https://imgur.com/ZtAvye5.png)](https://bit.ly/3mXnKGH \"𝗕𝗶𝘁𝗰𝗼𝗶𝗻 𝗣𝗿𝗶𝗰𝗲 𝗣𝗿𝗲𝗱𝗶𝗰𝘁𝗶𝗼𝗻 𝘄𝗶𝘁𝗵 𝗗𝗲𝗲𝗽 𝗟𝗲𝗮𝗿𝗻𝗶𝗻𝗴 𝗟𝗦𝗧𝗠\")\n",
    "\n",
    "## Disclaimer\n",
    "\n",
    "### This notebook is entirely informative. None of the content presented in this notebook constitutes a recommendation that any particular security, portfolio of securities, transaction or investment strategy is suitable for any specific person. Futures, stocks and options trading involves substantial risk of loss and is not suitable for every investor. The valuation of futures, stocks and options may fluctuate, and, as a result, clients may lose more than their original investment.\n",
    "\n",
    "### [Uploaded the whole dataset here in Kaggle](https://www.kaggle.com/paulrohan2020/bitcoin-historic-prices-from-oct2015-to-oct2021)"
   ]
  },
  {
   "cell_type": "code",
   "execution_count": 1,
   "metadata": {},
   "outputs": [
    {
     "name": "stderr",
     "output_type": "stream",
     "text": [
      "2021-11-19 00:39:27.936023: W tensorflow/stream_executor/platform/default/dso_loader.cc:64] Could not load dynamic library 'libcudart.so.11.0'; dlerror: libcudart.so.11.0: cannot open shared object file: No such file or directory\n",
      "2021-11-19 00:39:27.936048: I tensorflow/stream_executor/cuda/cudart_stub.cc:29] Ignore above cudart dlerror if you do not have a GPU set up on your machine.\n"
     ]
    }
   ],
   "source": [
    "import warnings\n",
    "warnings.filterwarnings('ignore')\n",
    "import os\n",
    "import pandas as pd\n",
    "import numpy as np\n",
    "import math\n",
    "import datetime as dt\n",
    "import matplotlib.pyplot as plt\n",
    "\n",
    "from sklearn.metrics import mean_squared_error, mean_absolute_error, explained_variance_score, r2_score \n",
    "from sklearn.metrics import mean_poisson_deviance, mean_gamma_deviance, accuracy_score\n",
    "from sklearn.preprocessing import MinMaxScaler\n",
    "\n",
    "from itertools import product\n",
    "import statsmodels.api as sm\n",
    "\n",
    "import tensorflow as tf\n",
    "\n",
    "from tensorflow.keras.models import Sequential\n",
    "from tensorflow.keras.layers import Dense, Dropout\n",
    "from tensorflow.keras.layers import LSTM\n",
    "\n",
    "from itertools import cycle\n",
    "import plotly.offline as py\n",
    "import plotly.graph_objects as go\n",
    "import plotly.express as px\n",
    "from plotly.subplots import make_subplots\n",
    "\n",
    "plt.style.use('seaborn-darkgrid')"
   ]
  },
  {
   "cell_type": "markdown",
   "metadata": {},
   "source": [
    "# Transformation of time series into supervision problems\n",
    "\n",
    "Time series data needs to be prepared before training a supervised learning model (such as LSTM neural network). For example, a unary time series is represented as an observation vector:\n",
    "\n",
    "```\n",
    "[1, 2, 3, 4, 5, 6, 7, 8, 9, 10]\n",
    "\n",
    "```\n",
    "\n",
    "The supervised learning algorithm requires data to be provided as a set of samples, where each sample has an input component X and an output component y. The model will learn how to map input to output from the provided examples.\n",
    "\n",
    "\n",
    "The time series must be converted into samples with input and output components .  For a univariate time series problem that is interested in one-step forecasting, you can use the observations at the previous time point as input and the observations at the current time point as the output. For example, the above 10-step univariate sequence can be expressed as a supervised learning problem, the input is 3 time steps, and the output is 1 time step, as shown below:\n",
    "\n",
    "X *******   Y\n",
    "\n",
    "===============\n",
    " \n",
    "[1, 2, 3],  [4]\n",
    "\n",
    "[2, 3, 4],  [5]\n",
    "\n",
    "[3, 4, 5],  [6]"
   ]
  },
  {
   "cell_type": "code",
   "execution_count": 2,
   "metadata": {},
   "outputs": [
    {
     "data": {
      "text/html": [
       "<div>\n",
       "<style scoped>\n",
       "    .dataframe tbody tr th:only-of-type {\n",
       "        vertical-align: middle;\n",
       "    }\n",
       "\n",
       "    .dataframe tbody tr th {\n",
       "        vertical-align: top;\n",
       "    }\n",
       "\n",
       "    .dataframe thead th {\n",
       "        text-align: right;\n",
       "    }\n",
       "</style>\n",
       "<table border=\"1\" class=\"dataframe\">\n",
       "  <thead>\n",
       "    <tr style=\"text-align: right;\">\n",
       "      <th></th>\n",
       "      <th>time</th>\n",
       "      <th>low</th>\n",
       "      <th>high</th>\n",
       "      <th>open</th>\n",
       "      <th>close</th>\n",
       "      <th>volume</th>\n",
       "    </tr>\n",
       "  </thead>\n",
       "  <tbody>\n",
       "    <tr>\n",
       "      <th>3113271</th>\n",
       "      <td>2015-10-27 00:04:00</td>\n",
       "      <td>287.07</td>\n",
       "      <td>287.07</td>\n",
       "      <td>287.07</td>\n",
       "      <td>287.07</td>\n",
       "      <td>0.08610</td>\n",
       "    </tr>\n",
       "    <tr>\n",
       "      <th>3113272</th>\n",
       "      <td>2015-10-27 00:03:00</td>\n",
       "      <td>287.08</td>\n",
       "      <td>287.09</td>\n",
       "      <td>287.08</td>\n",
       "      <td>287.09</td>\n",
       "      <td>0.55440</td>\n",
       "    </tr>\n",
       "    <tr>\n",
       "      <th>3113273</th>\n",
       "      <td>2015-10-27 00:02:00</td>\n",
       "      <td>286.89</td>\n",
       "      <td>287.10</td>\n",
       "      <td>287.10</td>\n",
       "      <td>286.89</td>\n",
       "      <td>72.40320</td>\n",
       "    </tr>\n",
       "    <tr>\n",
       "      <th>3113274</th>\n",
       "      <td>2015-10-27 00:01:00</td>\n",
       "      <td>287.09</td>\n",
       "      <td>287.09</td>\n",
       "      <td>287.09</td>\n",
       "      <td>287.09</td>\n",
       "      <td>0.82276</td>\n",
       "    </tr>\n",
       "    <tr>\n",
       "      <th>3113275</th>\n",
       "      <td>2015-10-27 00:00:00</td>\n",
       "      <td>287.10</td>\n",
       "      <td>287.10</td>\n",
       "      <td>287.10</td>\n",
       "      <td>287.10</td>\n",
       "      <td>0.53620</td>\n",
       "    </tr>\n",
       "  </tbody>\n",
       "</table>\n",
       "</div>"
      ],
      "text/plain": [
       "                        time     low    high    open   close    volume\n",
       "3113271  2015-10-27 00:04:00  287.07  287.07  287.07  287.07   0.08610\n",
       "3113272  2015-10-27 00:03:00  287.08  287.09  287.08  287.09   0.55440\n",
       "3113273  2015-10-27 00:02:00  286.89  287.10  287.10  286.89  72.40320\n",
       "3113274  2015-10-27 00:01:00  287.09  287.09  287.09  287.09   0.82276\n",
       "3113275  2015-10-27 00:00:00  287.10  287.10  287.10  287.10   0.53620"
      ]
     },
     "execution_count": 2,
     "metadata": {},
     "output_type": "execute_result"
    }
   ],
   "source": [
    "# You can also get the dataset from Kaggle ( I uploaded the whole .csv file here)\n",
    "# https://www.kaggle.com/paulrohan2020/bitcoin-historic-prices-from-oct2015-to-oct2021\n",
    "\n",
    "# For accessing the dataset from my google drive while running the code in Colab\n",
    "# root_path = '/content/drive/MyDrive/Datasets_For_Working/Bitcoin_2015-2021-30-Oct-2021/3_pull.csv'\n",
    "\n",
    "# The dataset in local machine\n",
    "root_path = './input/btc_ohlc_Oct_2015_to_Oct_2021.csv'\n",
    "\n",
    "# btc_input_df = pd.read_csv(root_path, nrows=500)\n",
    "btc_input_df = pd.read_csv(root_path)\n",
    "btc_input_df.tail()"
   ]
  },
  {
   "cell_type": "code",
   "execution_count": 3,
   "metadata": {},
   "outputs": [
    {
     "data": {
      "text/plain": [
       "(3113276, 6)"
      ]
     },
     "execution_count": 3,
     "metadata": {},
     "output_type": "execute_result"
    }
   ],
   "source": [
    "btc_input_df.shape"
   ]
  },
  {
   "cell_type": "code",
   "execution_count": 4,
   "metadata": {},
   "outputs": [
    {
     "data": {
      "text/html": [
       "<div>\n",
       "<style scoped>\n",
       "    .dataframe tbody tr th:only-of-type {\n",
       "        vertical-align: middle;\n",
       "    }\n",
       "\n",
       "    .dataframe tbody tr th {\n",
       "        vertical-align: top;\n",
       "    }\n",
       "\n",
       "    .dataframe thead th {\n",
       "        text-align: right;\n",
       "    }\n",
       "</style>\n",
       "<table border=\"1\" class=\"dataframe\">\n",
       "  <thead>\n",
       "    <tr style=\"text-align: right;\">\n",
       "      <th></th>\n",
       "      <th>low</th>\n",
       "      <th>high</th>\n",
       "      <th>open</th>\n",
       "      <th>close</th>\n",
       "      <th>volume</th>\n",
       "    </tr>\n",
       "  </thead>\n",
       "  <tbody>\n",
       "    <tr>\n",
       "      <th>count</th>\n",
       "      <td>3.113276e+06</td>\n",
       "      <td>3.113276e+06</td>\n",
       "      <td>3.113276e+06</td>\n",
       "      <td>3.113276e+06</td>\n",
       "      <td>3.113276e+06</td>\n",
       "    </tr>\n",
       "    <tr>\n",
       "      <th>mean</th>\n",
       "      <td>1.152825e+04</td>\n",
       "      <td>1.154230e+04</td>\n",
       "      <td>1.153537e+04</td>\n",
       "      <td>1.153541e+04</td>\n",
       "      <td>9.689568e+00</td>\n",
       "    </tr>\n",
       "    <tr>\n",
       "      <th>std</th>\n",
       "      <td>1.490292e+04</td>\n",
       "      <td>1.492446e+04</td>\n",
       "      <td>1.491374e+04</td>\n",
       "      <td>1.491379e+04</td>\n",
       "      <td>2.239875e+01</td>\n",
       "    </tr>\n",
       "    <tr>\n",
       "      <th>min</th>\n",
       "      <td>6.000000e-02</td>\n",
       "      <td>6.000000e-02</td>\n",
       "      <td>6.000000e-02</td>\n",
       "      <td>6.000000e-02</td>\n",
       "      <td>1.000000e-08</td>\n",
       "    </tr>\n",
       "    <tr>\n",
       "      <th>25%</th>\n",
       "      <td>1.849558e+03</td>\n",
       "      <td>1.850000e+03</td>\n",
       "      <td>1.849925e+03</td>\n",
       "      <td>1.849980e+03</td>\n",
       "      <td>1.331197e+00</td>\n",
       "    </tr>\n",
       "    <tr>\n",
       "      <th>50%</th>\n",
       "      <td>7.099990e+03</td>\n",
       "      <td>7.105000e+03</td>\n",
       "      <td>7.102045e+03</td>\n",
       "      <td>7.102060e+03</td>\n",
       "      <td>3.707298e+00</td>\n",
       "    </tr>\n",
       "    <tr>\n",
       "      <th>75%</th>\n",
       "      <td>1.067558e+04</td>\n",
       "      <td>1.068550e+04</td>\n",
       "      <td>1.068027e+04</td>\n",
       "      <td>1.068040e+04</td>\n",
       "      <td>9.761575e+00</td>\n",
       "    </tr>\n",
       "    <tr>\n",
       "      <th>max</th>\n",
       "      <td>6.690000e+04</td>\n",
       "      <td>6.699900e+04</td>\n",
       "      <td>6.694122e+04</td>\n",
       "      <td>6.694122e+04</td>\n",
       "      <td>1.549613e+03</td>\n",
       "    </tr>\n",
       "  </tbody>\n",
       "</table>\n",
       "</div>"
      ],
      "text/plain": [
       "                low          high          open         close        volume\n",
       "count  3.113276e+06  3.113276e+06  3.113276e+06  3.113276e+06  3.113276e+06\n",
       "mean   1.152825e+04  1.154230e+04  1.153537e+04  1.153541e+04  9.689568e+00\n",
       "std    1.490292e+04  1.492446e+04  1.491374e+04  1.491379e+04  2.239875e+01\n",
       "min    6.000000e-02  6.000000e-02  6.000000e-02  6.000000e-02  1.000000e-08\n",
       "25%    1.849558e+03  1.850000e+03  1.849925e+03  1.849980e+03  1.331197e+00\n",
       "50%    7.099990e+03  7.105000e+03  7.102045e+03  7.102060e+03  3.707298e+00\n",
       "75%    1.067558e+04  1.068550e+04  1.068027e+04  1.068040e+04  9.761575e+00\n",
       "max    6.690000e+04  6.699900e+04  6.694122e+04  6.694122e+04  1.549613e+03"
      ]
     },
     "execution_count": 4,
     "metadata": {},
     "output_type": "execute_result"
    }
   ],
   "source": [
    "btc_input_df.describe()"
   ]
  },
  {
   "cell_type": "code",
   "execution_count": 5,
   "metadata": {},
   "outputs": [
    {
     "name": "stdout",
     "output_type": "stream",
     "text": [
      "<class 'pandas.core.frame.DataFrame'>\n",
      "RangeIndex: 3113276 entries, 0 to 3113275\n",
      "Data columns (total 6 columns):\n",
      " #   Column  Dtype  \n",
      "---  ------  -----  \n",
      " 0   time    object \n",
      " 1   low     float64\n",
      " 2   high    float64\n",
      " 3   open    float64\n",
      " 4   close   float64\n",
      " 5   volume  float64\n",
      "dtypes: float64(5), object(1)\n",
      "memory usage: 142.5+ MB\n"
     ]
    }
   ],
   "source": [
    "btc_input_df.info()"
   ]
  },
  {
   "cell_type": "markdown",
   "metadata": {},
   "source": [
    "# Convert 'time' column from object dtype to datetime dtype\n",
    "\n",
    "From above I can see that the 'time' column is being treated as an object rather than as dates. To fix this, I will use the (pd.to_datetime() function which converts the arguments to dates."
   ]
  },
  {
   "cell_type": "code",
   "execution_count": 6,
   "metadata": {},
   "outputs": [],
   "source": [
    "btc_input_df_datetype = btc_input_df.astype({'time': 'datetime64'})"
   ]
  },
  {
   "cell_type": "code",
   "execution_count": 7,
   "metadata": {},
   "outputs": [
    {
     "name": "stdout",
     "output_type": "stream",
     "text": [
      "<class 'pandas.core.frame.DataFrame'>\n",
      "RangeIndex: 3113276 entries, 0 to 3113275\n",
      "Data columns (total 6 columns):\n",
      " #   Column  Dtype         \n",
      "---  ------  -----         \n",
      " 0   time    datetime64[ns]\n",
      " 1   low     float64       \n",
      " 2   high    float64       \n",
      " 3   open    float64       \n",
      " 4   close   float64       \n",
      " 5   volume  float64       \n",
      "dtypes: datetime64[ns](1), float64(5)\n",
      "memory usage: 142.5 MB\n"
     ]
    }
   ],
   "source": [
    "btc_input_df_datetype.info()"
   ]
  },
  {
   "cell_type": "code",
   "execution_count": 8,
   "metadata": {},
   "outputs": [
    {
     "name": "stdout",
     "output_type": "stream",
     "text": [
      "Null Values: 0\n",
      "If any NA values: False\n"
     ]
    }
   ],
   "source": [
    "print('Null Values:',btc_input_df_datetype.isnull().values.sum())\n",
    "print('If any NA values:', btc_input_df_datetype.isnull().values.any())"
   ]
  },
  {
   "cell_type": "code",
   "execution_count": 9,
   "metadata": {},
   "outputs": [
    {
     "data": {
      "text/html": [
       "<div>\n",
       "<style scoped>\n",
       "    .dataframe tbody tr th:only-of-type {\n",
       "        vertical-align: middle;\n",
       "    }\n",
       "\n",
       "    .dataframe tbody tr th {\n",
       "        vertical-align: top;\n",
       "    }\n",
       "\n",
       "    .dataframe thead th {\n",
       "        text-align: right;\n",
       "    }\n",
       "</style>\n",
       "<table border=\"1\" class=\"dataframe\">\n",
       "  <thead>\n",
       "    <tr style=\"text-align: right;\">\n",
       "      <th></th>\n",
       "      <th>time</th>\n",
       "      <th>low</th>\n",
       "      <th>high</th>\n",
       "      <th>open</th>\n",
       "      <th>close</th>\n",
       "      <th>volume</th>\n",
       "    </tr>\n",
       "  </thead>\n",
       "  <tbody>\n",
       "    <tr>\n",
       "      <th>3113271</th>\n",
       "      <td>2015-10-27 00:04:00</td>\n",
       "      <td>287.07</td>\n",
       "      <td>287.07</td>\n",
       "      <td>287.07</td>\n",
       "      <td>287.07</td>\n",
       "      <td>0.08610</td>\n",
       "    </tr>\n",
       "    <tr>\n",
       "      <th>3113272</th>\n",
       "      <td>2015-10-27 00:03:00</td>\n",
       "      <td>287.08</td>\n",
       "      <td>287.09</td>\n",
       "      <td>287.08</td>\n",
       "      <td>287.09</td>\n",
       "      <td>0.55440</td>\n",
       "    </tr>\n",
       "    <tr>\n",
       "      <th>3113273</th>\n",
       "      <td>2015-10-27 00:02:00</td>\n",
       "      <td>286.89</td>\n",
       "      <td>287.10</td>\n",
       "      <td>287.10</td>\n",
       "      <td>286.89</td>\n",
       "      <td>72.40320</td>\n",
       "    </tr>\n",
       "    <tr>\n",
       "      <th>3113274</th>\n",
       "      <td>2015-10-27 00:01:00</td>\n",
       "      <td>287.09</td>\n",
       "      <td>287.09</td>\n",
       "      <td>287.09</td>\n",
       "      <td>287.09</td>\n",
       "      <td>0.82276</td>\n",
       "    </tr>\n",
       "    <tr>\n",
       "      <th>3113275</th>\n",
       "      <td>2015-10-27 00:00:00</td>\n",
       "      <td>287.10</td>\n",
       "      <td>287.10</td>\n",
       "      <td>287.10</td>\n",
       "      <td>287.10</td>\n",
       "      <td>0.53620</td>\n",
       "    </tr>\n",
       "  </tbody>\n",
       "</table>\n",
       "</div>"
      ],
      "text/plain": [
       "                       time     low    high    open   close    volume\n",
       "3113271 2015-10-27 00:04:00  287.07  287.07  287.07  287.07   0.08610\n",
       "3113272 2015-10-27 00:03:00  287.08  287.09  287.08  287.09   0.55440\n",
       "3113273 2015-10-27 00:02:00  286.89  287.10  287.10  286.89  72.40320\n",
       "3113274 2015-10-27 00:01:00  287.09  287.09  287.09  287.09   0.82276\n",
       "3113275 2015-10-27 00:00:00  287.10  287.10  287.10  287.10   0.53620"
      ]
     },
     "execution_count": 9,
     "metadata": {},
     "output_type": "execute_result"
    }
   ],
   "source": [
    "btc_input_df_datetype.tail()"
   ]
  },
  {
   "cell_type": "code",
   "execution_count": 10,
   "metadata": {},
   "outputs": [
    {
     "data": {
      "text/html": [
       "<div>\n",
       "<style scoped>\n",
       "    .dataframe tbody tr th:only-of-type {\n",
       "        vertical-align: middle;\n",
       "    }\n",
       "\n",
       "    .dataframe tbody tr th {\n",
       "        vertical-align: top;\n",
       "    }\n",
       "\n",
       "    .dataframe thead th {\n",
       "        text-align: right;\n",
       "    }\n",
       "</style>\n",
       "<table border=\"1\" class=\"dataframe\">\n",
       "  <thead>\n",
       "    <tr style=\"text-align: right;\">\n",
       "      <th></th>\n",
       "      <th>time</th>\n",
       "      <th>low</th>\n",
       "      <th>high</th>\n",
       "      <th>open</th>\n",
       "      <th>close</th>\n",
       "      <th>volume</th>\n",
       "    </tr>\n",
       "  </thead>\n",
       "  <tbody>\n",
       "    <tr>\n",
       "      <th>0</th>\n",
       "      <td>2021-10-30 03:00:00</td>\n",
       "      <td>61868.81</td>\n",
       "      <td>61920.00</td>\n",
       "      <td>61888.18</td>\n",
       "      <td>61919.98</td>\n",
       "      <td>2.946079</td>\n",
       "    </tr>\n",
       "    <tr>\n",
       "      <th>1</th>\n",
       "      <td>2021-10-30 02:59:00</td>\n",
       "      <td>61882.74</td>\n",
       "      <td>61912.67</td>\n",
       "      <td>61903.16</td>\n",
       "      <td>61882.74</td>\n",
       "      <td>2.942357</td>\n",
       "    </tr>\n",
       "    <tr>\n",
       "      <th>2</th>\n",
       "      <td>2021-10-30 02:58:00</td>\n",
       "      <td>61854.82</td>\n",
       "      <td>61907.96</td>\n",
       "      <td>61854.82</td>\n",
       "      <td>61903.15</td>\n",
       "      <td>3.047848</td>\n",
       "    </tr>\n",
       "    <tr>\n",
       "      <th>3</th>\n",
       "      <td>2021-10-30 02:57:00</td>\n",
       "      <td>61848.04</td>\n",
       "      <td>61883.02</td>\n",
       "      <td>61883.01</td>\n",
       "      <td>61851.39</td>\n",
       "      <td>3.381070</td>\n",
       "    </tr>\n",
       "    <tr>\n",
       "      <th>4</th>\n",
       "      <td>2021-10-30 02:56:00</td>\n",
       "      <td>61879.33</td>\n",
       "      <td>61925.42</td>\n",
       "      <td>61907.47</td>\n",
       "      <td>61882.28</td>\n",
       "      <td>5.663128</td>\n",
       "    </tr>\n",
       "  </tbody>\n",
       "</table>\n",
       "</div>"
      ],
      "text/plain": [
       "                 time       low      high      open     close    volume\n",
       "0 2021-10-30 03:00:00  61868.81  61920.00  61888.18  61919.98  2.946079\n",
       "1 2021-10-30 02:59:00  61882.74  61912.67  61903.16  61882.74  2.942357\n",
       "2 2021-10-30 02:58:00  61854.82  61907.96  61854.82  61903.15  3.047848\n",
       "3 2021-10-30 02:57:00  61848.04  61883.02  61883.01  61851.39  3.381070\n",
       "4 2021-10-30 02:56:00  61879.33  61925.42  61907.47  61882.28  5.663128"
      ]
     },
     "execution_count": 10,
     "metadata": {},
     "output_type": "execute_result"
    }
   ],
   "source": [
    "btc_input_df_datetype.head()"
   ]
  },
  {
   "cell_type": "code",
   "execution_count": 11,
   "metadata": {},
   "outputs": [
    {
     "data": {
      "text/plain": [
       "<AxesSubplot:title={'center':'Bitcoin Weighted Price'}, xlabel='time'>"
      ]
     },
     "execution_count": 11,
     "metadata": {},
     "output_type": "execute_result"
    },
    {
     "data": {
      "image/png": "[encoded data removed]",
      "text/plain": [
       "<Figure size 1728x504 with 1 Axes>"
      ]
     },
     "metadata": {},
     "output_type": "display_data"
    }
   ],
   "source": [
    "btc_input_df_datetype.set_index(\"time\").close.plot(figsize=(24,7), title=\"Bitcoin Weighted Price\")"
   ]
  },
  {
   "cell_type": "markdown",
   "metadata": {},
   "source": [
    "# Lag Plot\n",
    "\n",
    "Lag plot are used to observe the autocorrelation. These are crucial when we try to correct the trend and stationarity and we have to use smoothing functions. Lag plot helps us to understand the data better."
   ]
  },
  {
   "cell_type": "code",
   "execution_count": 12,
   "metadata": {},
   "outputs": [
    {
     "name": "stderr",
     "output_type": "stream",
     "text": [
      "No handles with labels found to put in legend.\n"
     ]
    },
    {
     "data": {
      "image/png": "[encoded data removed]",
      "text/plain": [
       "<Figure size 1080x864 with 5 Axes>"
      ]
     },
     "metadata": {},
     "output_type": "display_data"
    }
   ],
   "source": [
    "plt.figure(figsize=(15,12))\n",
    "plt.suptitle('Lag Plots', fontsize=22)\n",
    "\n",
    "plt.subplot(3,3,1)\n",
    "pd.plotting.lag_plot(btc_input_df_datetype['close'], lag=1) #minute lag\n",
    "plt.title('1-Minute Lag')\n",
    "\n",
    "plt.subplot(3,3,2)\n",
    "pd.plotting.lag_plot(btc_input_df_datetype['close'], lag=60) #hourley lag\n",
    "plt.title('1-Hour Lag')\n",
    "\n",
    "plt.subplot(3,3,3)\n",
    "pd.plotting.lag_plot(btc_input_df_datetype['close'], lag=1440) #Daily lag\n",
    "plt.title('Daily Lag')\n",
    "\n",
    "plt.subplot(3,3,4)\n",
    "pd.plotting.lag_plot(btc_input_df_datetype['close'], lag=10080) #weekly lag\n",
    "plt.title('Weekly Lag')\n",
    "\n",
    "plt.subplot(3,3,5)\n",
    "pd.plotting.lag_plot(btc_input_df_datetype['close'], lag=43200) #month lag\n",
    "plt.title('1-Month Lag')\n",
    "\n",
    "plt.legend()\n",
    "plt.show()"
   ]
  },
  {
   "cell_type": "markdown",
   "metadata": {},
   "source": [
    "We can see that there is a positive correlation for minute, hour and daily lag plots. \n",
    "\n",
    "Correlation decreases drastically with Weekly Lag and absolutely no correlation for month lag plots.\n",
    "\n",
    "It makes sense to re-sample our data atmost at the Daily level, thereby preserving the autocorrelation as well."
   ]
  },
  {
   "cell_type": "markdown",
   "metadata": {},
   "source": [
    "# Making data ready for LSTM - pd.to_datetime(unit='s) and then groupby('date')\n",
    "\n",
    "## pd.to_datetime unit='s'\n",
    "\n",
    "The unit of the arg (D,s,ms,us,ns) denote the unit, which is an integer or float number. This will be based off the origin. Example, with unit=’ms’ and origin=’unix’ (the default), this would calculate the number of milliseconds to the unix epoch start.\n",
    "\n",
    "Say you pass an int as your arg (like 20203939), with unit, you’ll be able specify what unit your int is away from the origin. In the example here, if we set unit=’s’, this means pandas will interpret 20203939 as 20,203,939 seconds away from the origin. Available units are [D,s,ms,us,ns]. \n",
    "[Source](https://www.dataindependent.com/pandas/pandas-to-datetime/)"
   ]
  },
  {
   "cell_type": "code",
   "execution_count": 13,
   "metadata": {},
   "outputs": [
    {
     "data": {
      "text/html": [
       "<div>\n",
       "<style scoped>\n",
       "    .dataframe tbody tr th:only-of-type {\n",
       "        vertical-align: middle;\n",
       "    }\n",
       "\n",
       "    .dataframe tbody tr th {\n",
       "        vertical-align: top;\n",
       "    }\n",
       "\n",
       "    .dataframe thead th {\n",
       "        text-align: right;\n",
       "    }\n",
       "</style>\n",
       "<table border=\"1\" class=\"dataframe\">\n",
       "  <thead>\n",
       "    <tr style=\"text-align: right;\">\n",
       "      <th></th>\n",
       "      <th>time</th>\n",
       "      <th>low</th>\n",
       "      <th>high</th>\n",
       "      <th>open</th>\n",
       "      <th>close</th>\n",
       "      <th>volume</th>\n",
       "      <th>date</th>\n",
       "    </tr>\n",
       "  </thead>\n",
       "  <tbody>\n",
       "    <tr>\n",
       "      <th>0</th>\n",
       "      <td>2021-10-30 03:00:00</td>\n",
       "      <td>61868.81</td>\n",
       "      <td>61920.00</td>\n",
       "      <td>61888.18</td>\n",
       "      <td>61919.98</td>\n",
       "      <td>2.946079</td>\n",
       "      <td>2021-10-30</td>\n",
       "    </tr>\n",
       "    <tr>\n",
       "      <th>1</th>\n",
       "      <td>2021-10-30 02:59:00</td>\n",
       "      <td>61882.74</td>\n",
       "      <td>61912.67</td>\n",
       "      <td>61903.16</td>\n",
       "      <td>61882.74</td>\n",
       "      <td>2.942357</td>\n",
       "      <td>2021-10-30</td>\n",
       "    </tr>\n",
       "    <tr>\n",
       "      <th>2</th>\n",
       "      <td>2021-10-30 02:58:00</td>\n",
       "      <td>61854.82</td>\n",
       "      <td>61907.96</td>\n",
       "      <td>61854.82</td>\n",
       "      <td>61903.15</td>\n",
       "      <td>3.047848</td>\n",
       "      <td>2021-10-30</td>\n",
       "    </tr>\n",
       "    <tr>\n",
       "      <th>3</th>\n",
       "      <td>2021-10-30 02:57:00</td>\n",
       "      <td>61848.04</td>\n",
       "      <td>61883.02</td>\n",
       "      <td>61883.01</td>\n",
       "      <td>61851.39</td>\n",
       "      <td>3.381070</td>\n",
       "      <td>2021-10-30</td>\n",
       "    </tr>\n",
       "    <tr>\n",
       "      <th>4</th>\n",
       "      <td>2021-10-30 02:56:00</td>\n",
       "      <td>61879.33</td>\n",
       "      <td>61925.42</td>\n",
       "      <td>61907.47</td>\n",
       "      <td>61882.28</td>\n",
       "      <td>5.663128</td>\n",
       "      <td>2021-10-30</td>\n",
       "    </tr>\n",
       "  </tbody>\n",
       "</table>\n",
       "</div>"
      ],
      "text/plain": [
       "                 time       low      high      open     close    volume  \\\n",
       "0 2021-10-30 03:00:00  61868.81  61920.00  61888.18  61919.98  2.946079   \n",
       "1 2021-10-30 02:59:00  61882.74  61912.67  61903.16  61882.74  2.942357   \n",
       "2 2021-10-30 02:58:00  61854.82  61907.96  61854.82  61903.15  3.047848   \n",
       "3 2021-10-30 02:57:00  61848.04  61883.02  61883.01  61851.39  3.381070   \n",
       "4 2021-10-30 02:56:00  61879.33  61925.42  61907.47  61882.28  5.663128   \n",
       "\n",
       "         date  \n",
       "0  2021-10-30  \n",
       "1  2021-10-30  \n",
       "2  2021-10-30  \n",
       "3  2021-10-30  \n",
       "4  2021-10-30  "
      ]
     },
     "metadata": {},
     "output_type": "display_data"
    }
   ],
   "source": [
    "btc_input_df_datetype['date'] = pd.to_datetime(btc_input_df_datetype['time'],unit='s').dt.date\n",
    "\n",
    "display(btc_input_df_datetype.head())\n",
    "\n",
    "group = btc_input_df_datetype.groupby('date')\n",
    "\n",
    "btc_closing_price_groupby_date = group['close'].mean()"
   ]
  },
  {
   "cell_type": "code",
   "execution_count": 14,
   "metadata": {},
   "outputs": [
    {
     "data": {
      "text/plain": [
       "date\n",
       "2015-10-27    292.887484\n",
       "2015-10-28    301.991834\n",
       "2015-10-29    310.537530\n",
       "2015-10-30    326.665808\n",
       "2015-10-31    323.877132\n",
       "2015-11-01    319.527295\n",
       "2015-11-02    339.226860\n",
       "2015-11-03    386.773759\n",
       "2015-11-04    450.035105\n",
       "2015-11-05    400.249521\n",
       "Name: close, dtype: float64"
      ]
     },
     "metadata": {},
     "output_type": "display_data"
    },
    {
     "name": "stdout",
     "output_type": "stream",
     "text": [
      "Length of btc_closing_price_groupby_date : 2196\n"
     ]
    }
   ],
   "source": [
    "display(btc_closing_price_groupby_date.head(10))\n",
    "\n",
    "print(\"Length of btc_closing_price_groupby_date :\", len(btc_closing_price_groupby_date))"
   ]
  },
  {
   "cell_type": "markdown",
   "metadata": {},
   "source": [
    "# Train Test Split"
   ]
  },
  {
   "cell_type": "code",
   "execution_count": 15,
   "metadata": {},
   "outputs": [],
   "source": [
    "prediction_days = 60\n",
    "\n",
    "# Set Train data to be uplo ( Total data length - prediction_days )\n",
    "df_train= btc_closing_price_groupby_date[:len(btc_closing_price_groupby_date)-prediction_days].values.reshape(-1,1)\n",
    "\n",
    "\n",
    "# Set Test data to be the last prediction_days (or 60 days in this case)\n",
    "df_test= btc_closing_price_groupby_date[len(btc_closing_price_groupby_date)-prediction_days:].values.reshape(-1,1)"
   ]
  },
  {
   "cell_type": "code",
   "execution_count": 16,
   "metadata": {},
   "outputs": [
    {
     "data": {
      "text/plain": [
       "(60, 1)"
      ]
     },
     "execution_count": 16,
     "metadata": {},
     "output_type": "execute_result"
    }
   ],
   "source": [
    "df_test.shape\n"
   ]
  },
  {
   "cell_type": "code",
   "execution_count": 17,
   "metadata": {},
   "outputs": [
    {
     "data": {
      "text/plain": [
       "<matplotlib.legend.Legend at 0x7faad298d760>"
      ]
     },
     "execution_count": 17,
     "metadata": {},
     "output_type": "execute_result"
    },
    {
     "data": {
      "image/png": "[encoded data removed]",
      "text/plain": [
       "<Figure size 936x504 with 1 Axes>"
      ]
     },
     "metadata": {},
     "output_type": "display_data"
    }
   ],
   "source": [
    "chosen_col = 'Close'\n",
    "\n",
    "fig, ax = plt.subplots(1, figsize=(13, 7))\n",
    "ax.plot(df_train, label='Train', linewidth=2)\n",
    "ax.plot(df_test, label='Test', linewidth=2)\n",
    "ax.set_ylabel('Price USD', fontsize=14)\n",
    "ax.set_title('', fontsize=16)\n",
    "ax.legend(loc='best', fontsize=16)"
   ]
  },
  {
   "cell_type": "markdown",
   "metadata": {},
   "source": [
    "# Mix Max Scaling of Data post Train-Test Split\n",
    "\n",
    "Scaling must be done after the data has been split into training and test sets — with each being scaled separately. \n",
    "\n",
    "A common mistake when first using the LSTM is to first normalize the data before splitting the data.\n",
    "\n",
    "The reason this is erroneous is that the normalization technique will use data from the test sets as a reference point when scaling the data as a whole. This will inadvertently influence the values of the training data, essentially resulting in data leakage from the test sets.\n"
   ]
  },
  {
   "cell_type": "code",
   "execution_count": 18,
   "metadata": {},
   "outputs": [],
   "source": [
    "scaler_train = MinMaxScaler(feature_range=(0, 1))\n",
    "scaled_train = scaler_train.fit_transform(df_train)\n",
    "\n",
    "scaler_test = MinMaxScaler(feature_range=(0, 1))\n",
    "scaled_test = scaler_test.fit_transform(df_test)"
   ]
  },
  {
   "cell_type": "markdown",
   "metadata": {},
   "source": [
    "# Dataset Generator for LSTM\n",
    "\n",
    "We will frame the problem to take a window of the last so many number of days of data to predict the current days data.\n",
    "\n",
    "To achieve this, we will define a new function named `dataset_generator_lstm()` that will split the input sequence into windows of data appropriate for fitting a supervised learning model, like an LSTM\n",
    "\n",
    "\n",
    "For example, if the sequence was:\n",
    "\n",
    "1, 2, 3, 4, 5, 6, 7, 8, 9, 10\n",
    "\n",
    "\n",
    "Then the samples for training the model will look like:\n",
    "\n",
    "```\n",
    "\n",
    "Input \t\t\t\t| Output\n",
    "1, 2, 3, 4, 5 \t\t6\n",
    "2, 3, 4, 5, 6 \t\t7\n",
    "3, 4, 5, 6, 7 \t\t8\n",
    "\n",
    "```\n",
    "\n",
    "LSTMs expect each sample in the dataset to have two dimensions; the first is the number of time steps (in the above case it is 5), and the second is the number of observations per time step (in this case it is 1).\n",
    "\n",
    "Because it is a regression type problem, we will use a linear activation function in the output layer and optimize the mean squared error loss function. We will also evaluate the model using the mean squared error (MAE) metric.\n",
    "\n",
    "## Define look_back period\n",
    "\n",
    "A “lookback period” defines how many previous timesteps are used in order to predict the subsequent timestep. \n",
    "\n",
    "For example if I set the lookback period is to 5, that that means that I am using the time steps at t-4, t-3, t-2, t-1, and t to predict the value at time t+1.\n",
    "\n",
    "For my case below, I will be using a one-step prediction model.\n",
    "\n",
    "### Lookback period\n",
    "\n",
    "\n",
    "```py\n",
    "\n",
    "lookback = 5\n",
    "\n",
    "X_train, Y_train = dataset_generator_lstm(train, lookback)\n",
    "\n",
    "X_val, Y_val = dataset_generator_lstm(val, lookback)\n",
    "\n",
    "```\n",
    "\n",
    "### Quick note on Python slice notation for slicing an array\n",
    "\n",
    "- [1:5] is equivalent to \"from 1 to 5\" (5 not included)\n",
    "\n",
    "- [1:] is equivalent to \"1 to end\"\n",
    "\n",
    "- [len(a):] is equivalent to \"from length of a to end\"\n",
    "\n",
    "In the below function I will generate the train_X array and train_y array for feeding into the LSTM"
   ]
  },
  {
   "cell_type": "code",
   "execution_count": 19,
   "metadata": {},
   "outputs": [
    {
     "name": "stdout",
     "output_type": "stream",
     "text": [
      "trainX:  (2131, 5)\n",
      "trainY:  (2131,)\n",
      "testX:  (55, 5)\n",
      "testY (55,)\n"
     ]
    }
   ],
   "source": [
    "def dataset_generator_lstm(dataset, look_back=5):\n",
    "    # A “lookback period” defines the window-size of how many\n",
    "    # previous timesteps are used in order to predict\n",
    "    # the subsequent timestep. \n",
    "    dataX, dataY = [], []\n",
    "    \n",
    "    for i in range(len(dataset) - look_back):\n",
    "        window_size_x = dataset[i:(i + look_back), 0]\n",
    "        dataX.append(window_size_x)\n",
    "        dataY.append(dataset[i + look_back, 0]) # this is the label or actual y-value\n",
    "    return np.array(dataX), np.array(dataY)\n",
    "\n",
    "trainX, trainY = dataset_generator_lstm(scaled_train)\n",
    "\n",
    "testX, testY = dataset_generator_lstm(scaled_test)\n",
    "\n",
    "print(\"trainX: \", trainX.shape)\n",
    "print(\"trainY: \", trainY.shape)\n",
    "print(\"testX: \", testX.shape)\n",
    "print(\"testY\", testY.shape)"
   ]
  },
  {
   "cell_type": "code",
   "execution_count": 20,
   "metadata": {},
   "outputs": [
    {
     "name": "stdout",
     "output_type": "stream",
     "text": [
      "trainX:  [[0.00000000e+00 1.44159882e-04 2.79473948e-04 5.34851927e-04\n",
      "  4.90695552e-04]\n",
      " [1.44159882e-04 2.79473948e-04 5.34851927e-04 4.90695552e-04\n",
      "  4.21819458e-04]\n",
      " [2.79473948e-04 5.34851927e-04 4.90695552e-04 4.21819458e-04\n",
      "  7.33745838e-04]\n",
      " ...\n",
      " [7.69797191e-01 7.59576884e-01 7.45106076e-01 7.51304260e-01\n",
      "  7.69632673e-01]\n",
      " [7.59576884e-01 7.45106076e-01 7.51304260e-01 7.69632673e-01\n",
      "  7.65970936e-01]\n",
      " [7.45106076e-01 7.51304260e-01 7.69632673e-01 7.65970936e-01\n",
      "  7.56740572e-01]]\n"
     ]
    }
   ],
   "source": [
    "print(\"trainX: \", trainX)\n",
    "# print(\"trainY: \", trainY)\n",
    "# print(\"testY: \", testX)\n",
    "# print(\"testY\", testY)"
   ]
  },
  {
   "cell_type": "markdown",
   "metadata": {},
   "source": [
    "# For LSTM I need to reshape input to be a 3D Tensor of [samples, time steps, features]\n",
    "\n",
    "    X = numpy.reshape(dataX, (len(dataX), seq_length, 1))\n",
    "\n",
    "**Samples** - This is the len(dataX), or the amount of data points you have.\n",
    "\n",
    "**Time steps** - A sample contains multiple time steps, that is, the width of the sliding window (according to the above example, the time step is 3). Note here that it is distinguished from the sliding step of the sliding window. This is equivalent to the amount of time steps you run your recurrent neural network. If you want your network to have memory of 60 characters, this number should be 60. For this notebook, I am using the window-size to be 5.\n",
    "\n",
    "**Features** - this is the amount of features in every time step. If you are processing pictures, this is the amount of pixels. In this case I have 1 feature (the price of Bitcoin) per time step.\n",
    "\n",
    " ### According to the documentation and the source code, the Keras LSTM input data must be in the form: [batch_size, timesteps, input_dim].\n",
    "\n",
    " In Keras, the number of time steps is equal to the number of LSTM cells. This is what the word “time steps” means in the 3D tensor of the shape [batch_size, timesteps, input_dim].\n",
    "\n",
    "\n",
    "### So to emphasize again, the input to every LSTM layer must be three-dimensional.\n",
    "\n",
    "The three dimensions of this input are:\n",
    "\n",
    "Samples. One sequence is one sample. A batch is comprised of one or more samples.\n",
    "\n",
    "Time Steps. One time step is one point of observation in the sample.\n",
    "\n",
    "Features. One feature is one observation at a time step.\n",
    "\n",
    "This means that the input layer expects a 3D array of data when fitting the model and when making predictions, even if specific dimensions of the array contain a single value, e.g. one sample or one feature.\n",
    "\n",
    "When defining the input layer of your LSTM network, the network assumes you have 1 or more samples and requires that you specify the number of time steps and the number of features. You can do this by specifying a tuple to the “input_shape” argument.\n",
    "\n",
    "-----------------------\n",
    "\n",
    "### Example of LSTM With Single Input Sample where you have one sequence of multiple time steps and one feature.\n",
    "\n",
    "For example, this could be a sequence of 10 values:\n",
    "\n",
    "```\n",
    "0.1, 0.2, 0.3, 0.4, 0.5, 0.6, 0.7, 0.8, 0.9, 1.0\n",
    "\n",
    "```\n",
    "\n",
    "1. We can define this sequence of numbers as a NumPy array.\n",
    "\n",
    "2. We can then use the reshape() function on the NumPy array to reshape this one-dimensional array into a three-dimensional array with 1 sample, 10 time steps, and 1 feature at each time step.\n",
    "\n",
    "The reshape() function when called on an array takes one argument which is a tuple defining the new shape of the array. We cannot pass in any tuple of numbers; the reshape must evenly reorganize the data in the array.\n",
    "\n",
    "3. Once reshaped, we can print the new shape of the array.\n",
    "\n",
    "Putting all of this together, the complete example is listed below.\n",
    "\n",
    "```py\n",
    "from numpy import array\n",
    "data = array([0.1, 0.2, 0.3, 0.4, 0.5, 0.6, 0.7, 0.8, 0.9, 1.0])\n",
    "data = data.reshape((1, 10, 1))\n",
    "print(data.shape)\n",
    "\n",
    "```\n",
    "Running the example prints the new 3D shape of the single sample.\n",
    "\n",
    "```\n",
    "(1, 10, 1)\n",
    "\n",
    "```\n",
    "This data is now ready to be used as input (X) to the LSTM with an input_shape of (10, 1).\n",
    "\n",
    "```py\n",
    "model = Sequential()\n",
    "model.add(LSTM(32, input_shape=(10, 1)))\n",
    "model.add(Dense(1))\n",
    "\n",
    "```\n",
    "\n",
    "----------------------------------"
   ]
  },
  {
   "cell_type": "markdown",
   "metadata": {},
   "source": [
    "-------------------------------\n",
    "\n",
    "# For LSTM Reshape input ( trainX and testX ) to be 3-D of [samples, time steps, features]\n",
    "\n",
    "### First check the current shape of trainX and testX"
   ]
  },
  {
   "cell_type": "code",
   "execution_count": 21,
   "metadata": {},
   "outputs": [
    {
     "name": "stdout",
     "output_type": "stream",
     "text": [
      "(2131, 5)\n",
      "(55, 5)\n"
     ]
    }
   ],
   "source": [
    "print(trainX.shape)\n",
    "print(testX.shape)"
   ]
  },
  {
   "cell_type": "markdown",
   "metadata": {},
   "source": [
    "### And now reshape trainX and testX "
   ]
  },
  {
   "cell_type": "code",
   "execution_count": 22,
   "metadata": {},
   "outputs": [
    {
     "name": "stdout",
     "output_type": "stream",
     "text": [
      "Shape of trainX:  (2131, 5, 1)\n",
      "Shape of testX:  (55, 5, 1)\n"
     ]
    }
   ],
   "source": [
    "trainX = np.reshape(trainX, (trainX.shape[0], trainX.shape[1], 1))\n",
    "\n",
    "testX = np.reshape(testX, (testX.shape[0], testX.shape[1], 1 ))\n",
    "\n",
    "print(\"Shape of trainX: \", trainX.shape)\n",
    "print(\"Shape of testX: \", testX.shape)"
   ]
  },
  {
   "cell_type": "code",
   "execution_count": 23,
   "metadata": {},
   "outputs": [
    {
     "name": "stdout",
     "output_type": "stream",
     "text": [
      "trainX:  [[[0.00000000e+00]\n",
      "  [1.44159882e-04]\n",
      "  [2.79473948e-04]\n",
      "  [5.34851927e-04]\n",
      "  [4.90695552e-04]]\n",
      "\n",
      " [[1.44159882e-04]\n",
      "  [2.79473948e-04]\n",
      "  [5.34851927e-04]\n",
      "  [4.90695552e-04]\n",
      "  [4.21819458e-04]]\n",
      "\n",
      " [[2.79473948e-04]\n",
      "  [5.34851927e-04]\n",
      "  [4.90695552e-04]\n",
      "  [4.21819458e-04]\n",
      "  [7.33745838e-04]]\n",
      "\n",
      " ...\n",
      "\n",
      " [[7.69797191e-01]\n",
      "  [7.59576884e-01]\n",
      "  [7.45106076e-01]\n",
      "  [7.51304260e-01]\n",
      "  [7.69632673e-01]]\n",
      "\n",
      " [[7.59576884e-01]\n",
      "  [7.45106076e-01]\n",
      "  [7.51304260e-01]\n",
      "  [7.69632673e-01]\n",
      "  [7.65970936e-01]]\n",
      "\n",
      " [[7.45106076e-01]\n",
      "  [7.51304260e-01]\n",
      "  [7.69632673e-01]\n",
      "  [7.65970936e-01]\n",
      "  [7.56740572e-01]]]\n",
      " ********** \n",
      "testX:  [[[0.25321869]\n",
      "  [0.33878686]\n",
      "  [0.34931688]\n",
      "  [0.35652903]\n",
      "  [0.36882444]]\n",
      "\n",
      " [[0.33878686]\n",
      "  [0.34931688]\n",
      "  [0.35652903]\n",
      "  [0.36882444]\n",
      "  [0.43055223]]\n",
      "\n",
      " [[0.34931688]\n",
      "  [0.35652903]\n",
      "  [0.36882444]\n",
      "  [0.43055223]\n",
      "  [0.35190522]]\n",
      "\n",
      " [[0.35652903]\n",
      "  [0.36882444]\n",
      "  [0.43055223]\n",
      "  [0.35190522]\n",
      "  [0.19320919]]\n",
      "\n",
      " [[0.36882444]\n",
      "  [0.43055223]\n",
      "  [0.35190522]\n",
      "  [0.19320919]\n",
      "  [0.19855227]]\n",
      "\n",
      " [[0.43055223]\n",
      "  [0.35190522]\n",
      "  [0.19320919]\n",
      "  [0.19855227]\n",
      "  [0.17701621]]\n",
      "\n",
      " [[0.35190522]\n",
      "  [0.19320919]\n",
      "  [0.19855227]\n",
      "  [0.17701621]\n",
      "  [0.15325192]]\n",
      "\n",
      " [[0.19320919]\n",
      "  [0.19855227]\n",
      "  [0.17701621]\n",
      "  [0.15325192]\n",
      "  [0.16480254]]\n",
      "\n",
      " [[0.19855227]\n",
      "  [0.17701621]\n",
      "  [0.15325192]\n",
      "  [0.16480254]\n",
      "  [0.12865804]]\n",
      "\n",
      " [[0.17701621]\n",
      "  [0.15325192]\n",
      "  [0.16480254]\n",
      "  [0.12865804]\n",
      "  [0.18263966]]\n",
      "\n",
      " [[0.15325192]\n",
      "  [0.16480254]\n",
      "  [0.12865804]\n",
      "  [0.18263966]\n",
      "  [0.24906473]]\n",
      "\n",
      " [[0.16480254]\n",
      "  [0.12865804]\n",
      "  [0.18263966]\n",
      "  [0.24906473]\n",
      "  [0.26251689]]\n",
      "\n",
      " [[0.12865804]\n",
      "  [0.18263966]\n",
      "  [0.24906473]\n",
      "  [0.26251689]\n",
      "  [0.24876467]]\n",
      "\n",
      " [[0.18263966]\n",
      "  [0.24906473]\n",
      "  [0.26251689]\n",
      "  [0.24876467]\n",
      "  [0.27712791]]\n",
      "\n",
      " [[0.24906473]\n",
      "  [0.26251689]\n",
      "  [0.24876467]\n",
      "  [0.27712791]\n",
      "  [0.25529524]]\n",
      "\n",
      " [[0.26251689]\n",
      "  [0.24876467]\n",
      "  [0.27712791]\n",
      "  [0.25529524]\n",
      "  [0.12094002]]\n",
      "\n",
      " [[0.24876467]\n",
      "  [0.27712791]\n",
      "  [0.25529524]\n",
      "  [0.12094002]\n",
      "  [0.02665216]]\n",
      "\n",
      " [[0.27712791]\n",
      "  [0.25529524]\n",
      "  [0.12094002]\n",
      "  [0.02665216]\n",
      "  [0.03215063]]\n",
      "\n",
      " [[0.25529524]\n",
      "  [0.12094002]\n",
      "  [0.02665216]\n",
      "  [0.03215063]\n",
      "  [0.09826223]]\n",
      "\n",
      " [[0.12094002]\n",
      "  [0.02665216]\n",
      "  [0.03215063]\n",
      "  [0.09826223]\n",
      "  [0.05653365]]\n",
      "\n",
      " [[0.02665216]\n",
      "  [0.03215063]\n",
      "  [0.09826223]\n",
      "  [0.05653365]\n",
      "  [0.03321796]]\n",
      "\n",
      " [[0.03215063]\n",
      "  [0.09826223]\n",
      "  [0.05653365]\n",
      "  [0.03321796]\n",
      "  [0.04218533]]\n",
      "\n",
      " [[0.09826223]\n",
      "  [0.05653365]\n",
      "  [0.03321796]\n",
      "  [0.04218533]\n",
      "  [0.07336325]]\n",
      "\n",
      " [[0.05653365]\n",
      "  [0.03321796]\n",
      "  [0.04218533]\n",
      "  [0.07336325]\n",
      "  [0.004752  ]]\n",
      "\n",
      " [[0.03321796]\n",
      "  [0.04218533]\n",
      "  [0.07336325]\n",
      "  [0.004752  ]\n",
      "  [0.        ]]\n",
      "\n",
      " [[0.04218533]\n",
      "  [0.07336325]\n",
      "  [0.004752  ]\n",
      "  [0.        ]\n",
      "  [0.06214595]]\n",
      "\n",
      " [[0.07336325]\n",
      "  [0.004752  ]\n",
      "  [0.        ]\n",
      "  [0.06214595]\n",
      "  [0.18340176]]\n",
      "\n",
      " [[0.004752  ]\n",
      "  [0.        ]\n",
      "  [0.06214595]\n",
      "  [0.18340176]\n",
      "  [0.26015549]]\n",
      "\n",
      " [[0.        ]\n",
      "  [0.06214595]\n",
      "  [0.18340176]\n",
      "  [0.26015549]\n",
      "  [0.26810129]]\n",
      "\n",
      " [[0.06214595]\n",
      "  [0.18340176]\n",
      "  [0.26015549]\n",
      "  [0.26810129]\n",
      "  [0.27380695]]\n",
      "\n",
      " [[0.18340176]\n",
      "  [0.26015549]\n",
      "  [0.26810129]\n",
      "  [0.27380695]\n",
      "  [0.35673344]]\n",
      "\n",
      " [[0.26015549]\n",
      "  [0.26810129]\n",
      "  [0.27380695]\n",
      "  [0.35673344]\n",
      "  [0.47981766]]\n",
      "\n",
      " [[0.26810129]\n",
      "  [0.27380695]\n",
      "  [0.35673344]\n",
      "  [0.47981766]\n",
      "  [0.54177128]]\n",
      "\n",
      " [[0.27380695]\n",
      "  [0.35673344]\n",
      "  [0.47981766]\n",
      "  [0.54177128]\n",
      "  [0.5459711 ]]\n",
      "\n",
      " [[0.35673344]\n",
      "  [0.47981766]\n",
      "  [0.54177128]\n",
      "  [0.5459711 ]\n",
      "  [0.55826613]]\n",
      "\n",
      " [[0.47981766]\n",
      "  [0.54177128]\n",
      "  [0.5459711 ]\n",
      "  [0.55826613]\n",
      "  [0.5765067 ]]\n",
      "\n",
      " [[0.54177128]\n",
      "  [0.5459711 ]\n",
      "  [0.55826613]\n",
      "  [0.5765067 ]\n",
      "  [0.64334068]]\n",
      "\n",
      " [[0.5459711 ]\n",
      "  [0.55826613]\n",
      "  [0.5765067 ]\n",
      "  [0.64334068]\n",
      "  [0.63971782]]\n",
      "\n",
      " [[0.55826613]\n",
      "  [0.5765067 ]\n",
      "  [0.64334068]\n",
      "  [0.63971782]\n",
      "  [0.61481564]]\n",
      "\n",
      " [[0.5765067 ]\n",
      "  [0.64334068]\n",
      "  [0.63971782]\n",
      "  [0.61481564]\n",
      "  [0.68357564]]\n",
      "\n",
      " [[0.64334068]\n",
      "  [0.63971782]\n",
      "  [0.61481564]\n",
      "  [0.68357564]\n",
      "  [0.78050369]]\n",
      "\n",
      " [[0.63971782]\n",
      "  [0.61481564]\n",
      "  [0.68357564]\n",
      "  [0.78050369]\n",
      "  [0.8405857 ]]\n",
      "\n",
      " [[0.61481564]\n",
      "  [0.68357564]\n",
      "  [0.78050369]\n",
      "  [0.8405857 ]\n",
      "  [0.82202495]]\n",
      "\n",
      " [[0.68357564]\n",
      "  [0.78050369]\n",
      "  [0.8405857 ]\n",
      "  [0.82202495]\n",
      "  [0.86299335]]\n",
      "\n",
      " [[0.78050369]\n",
      "  [0.8405857 ]\n",
      "  [0.82202495]\n",
      "  [0.86299335]\n",
      "  [0.90375255]]\n",
      "\n",
      " [[0.8405857 ]\n",
      "  [0.82202495]\n",
      "  [0.86299335]\n",
      "  [0.90375255]\n",
      "  [1.        ]]\n",
      "\n",
      " [[0.82202495]\n",
      "  [0.86299335]\n",
      "  [0.90375255]\n",
      "  [1.        ]\n",
      "  [0.97247556]]\n",
      "\n",
      " [[0.86299335]\n",
      "  [0.90375255]\n",
      "  [1.        ]\n",
      "  [0.97247556]\n",
      "  [0.87962325]]\n",
      "\n",
      " [[0.90375255]\n",
      "  [1.        ]\n",
      "  [0.97247556]\n",
      "  [0.87962325]\n",
      "  [0.83248555]]\n",
      "\n",
      " [[1.        ]\n",
      "  [0.97247556]\n",
      "  [0.87962325]\n",
      "  [0.83248555]\n",
      "  [0.81613368]]\n",
      "\n",
      " [[0.97247556]\n",
      "  [0.87962325]\n",
      "  [0.83248555]\n",
      "  [0.81613368]\n",
      "  [0.89829139]]\n",
      "\n",
      " [[0.87962325]\n",
      "  [0.83248555]\n",
      "  [0.81613368]\n",
      "  [0.89829139]\n",
      "  [0.88503214]]\n",
      "\n",
      " [[0.83248555]\n",
      "  [0.81613368]\n",
      "  [0.89829139]\n",
      "  [0.88503214]\n",
      "  [0.76423277]]\n",
      "\n",
      " [[0.81613368]\n",
      "  [0.89829139]\n",
      "  [0.88503214]\n",
      "  [0.76423277]\n",
      "  [0.7963598 ]]\n",
      "\n",
      " [[0.89829139]\n",
      "  [0.88503214]\n",
      "  [0.76423277]\n",
      "  [0.7963598 ]\n",
      "  [0.85391712]]]\n"
     ]
    }
   ],
   "source": [
    "print(\"trainX: \", trainX)\n",
    "print(\" ********** \")\n",
    "print(\"testX: \", testX)"
   ]
  },
  {
   "cell_type": "markdown",
   "metadata": {},
   "source": [
    "## Let’s take a look at the normalized window for trainX.\n",
    "\n",
    "```\n",
    "[[[0.00000000e+00]\n",
    "  [1.44159882e-04]\n",
    "  [2.79473948e-04]\n",
    "  [5.34851927e-04]\n",
    "  [4.90695552e-04]]\n",
    "\n",
    " [[1.44159882e-04]\n",
    "  [2.79473948e-04]\n",
    "  [5.34851927e-04]\n",
    "  [4.90695552e-04]\n",
    "  [4.21819458e-04]]\n",
    "\n",
    " [[2.79473948e-04]\n",
    "  [5.34851927e-04]\n",
    "  [4.90695552e-04]\n",
    "  [4.21819458e-04]\n",
    "  [7.33745838e-04]]... ]\n",
    "\n",
    "```\n",
    "Above are the first three entries. We can see that the five time steps immediately prior to the one we are trying to predict move in a stepwise motion.\n",
    "\n",
    "Consider the last value of the first window which is => 4.90695552e-04"
   ]
  },
  {
   "cell_type": "markdown",
   "metadata": {},
   "source": [
    "# LSTM (Long Short-Term Memory) Mechanism\n",
    "\n",
    "The Long Short-Term Memory, or LSTM, is a recurrent neural network that is comprised of internal gates.\n",
    "\n",
    "Unlike other recurrent neural networks, the network’s internal gates allow the model to be trained successfully using backpropagation through time, or BPTT, and avoid the vanishing gradients problem.\n",
    "\n",
    "In the Keras deep learning library, LSTM layers can be created using the LSTM() class.\n",
    "\n",
    "Creating a layer of LSTM memory units allows you to specify the number of memory units within the layer.\n",
    "\n",
    "Each unit or cell within the layer has an internal cell state, often abbreviated as “c“, and outputs a hidden state, often abbreviated as “h“.\n",
    "\n",
    "The Keras API allows you to access these data, which can be useful or even required when developing sophisticated recurrent neural network architectures, such as the encoder-decoder model.\n",
    "\n",
    "\n",
    "## `input_shape` of LSTM Model - `input_shape` is supposed to be (timesteps, n_features).\n",
    "\n",
    "    input_shape = (95000,360)\n",
    "\n",
    "Keras LSTM takes and input with shape of (n_examples, n_times, n_features) and your layers input has to have this shape\n",
    "\n",
    "To give you an example: if I'm observing the amount of rain and the temperature each hour for 24h in order to predict the weather (1 = good, 0 = bad), and I do that for 365 days, I will have 365 samples, each of which will have 24 timesteps, and 2 variables (one for rain, one for temperature), so my input is going to have the shape (365, 24, 2), and input_shape = (24, 2)\n",
    "\n",
    "\n",
    "## `return_sequences=True`\n",
    "\n",
    "The original LSTM model is comprised of a single hidden LSTM layer followed by a standard feedforward output layer.\n",
    "\n",
    "The Stacked LSTM is an extension to this model that has multiple hidden LSTM layers where each layer contains multiple memory cells.\n",
    "\n",
    "You must set return_sequences=True when stacking LSTM layers so that the second LSTM layer has a compatible n-dimensional sequence input. \n",
    "\n",
    "#### To stack LSTM layers, we need to change the configuration of the prior LSTM layer to output a compatible n-dim array as input for the subsequent layer.\n",
    "\n",
    "We can do this by setting the return_sequences argument on the layer to True (defaults to False). This will return one output for each input time step and provide the compatible n-dim array.\n",
    "\n",
    "## Why Increase Depth of an LSTM ?\n",
    "\n",
    "Stacking LSTM hidden layers makes the model deeper, more accurately earning the description as a deep learning technique.\n",
    "\n",
    "It is the depth of neural networks that is generally attributed to the success of the approach on a wide range of challenging prediction problems.\n",
    "\n",
    "Additional hidden layers can be added to a Multilayer Perceptron neural network to make it deeper. The additional hidden layers are understood to recombine the learned representation from prior layers and create new representations at high levels of abstraction. For example, from lines to shapes to objects.\n",
    "\n",
    "A sufficiently large single hidden layer Multilayer Perceptron can be used to approximate most functions. Increasing the depth of the network provides an alternate solution that requires fewer neurons and trains faster. Ultimately, adding depth it is a type of representational optimization.\n",
    "\n",
    "Given that LSTMs operate on sequence data, it means that the addition of layers adds levels of abstraction of input observations over time. In effect, chunking observations over time or representing the problem at different time scales.\n",
    "\n",
    "Stacked LSTMs are now a stable technique for challenging sequence prediction problems. \n",
    "\n",
    "# Final LSTM "
   ]
  },
  {
   "cell_type": "code",
   "execution_count": 24,
   "metadata": {},
   "outputs": [
    {
     "name": "stdout",
     "output_type": "stream",
     "text": [
      "trainX.shape[1] - i.e. timesteps in input_shape = (timesteps, n_features)  5\n",
      "trainX.shape[2] - i.e. n_features in input_shape = (timesteps, n_features)  1\n"
     ]
    }
   ],
   "source": [
    "# First checking the values for input_shape = (trainX.shape[1], trainX.shape[2])\n",
    "# Note - `input_shape` of LSTM Model - `input_shape` is supposed to be (timesteps, n_features).\n",
    "\n",
    "print(\"trainX.shape[1] - i.e. timesteps in input_shape = (timesteps, n_features) \", trainX.shape[1])\n",
    "print(\"trainX.shape[2] - i.e. n_features in input_shape = (timesteps, n_features) \", trainX.shape[2])"
   ]
  },
  {
   "cell_type": "code",
   "execution_count": 25,
   "metadata": {},
   "outputs": [
    {
     "name": "stderr",
     "output_type": "stream",
     "text": [
      "2021-11-19 00:40:17.112276: I tensorflow/stream_executor/cuda/cuda_gpu_executor.cc:937] successful NUMA node read from SysFS had negative value (-1), but there must be at least one NUMA node, so returning NUMA node zero\n",
      "2021-11-19 00:40:17.112638: W tensorflow/stream_executor/platform/default/dso_loader.cc:64] Could not load dynamic library 'libcudart.so.11.0'; dlerror: libcudart.so.11.0: cannot open shared object file: No such file or directory\n",
      "2021-11-19 00:40:17.112712: W tensorflow/stream_executor/platform/default/dso_loader.cc:64] Could not load dynamic library 'libcublas.so.11'; dlerror: libcublas.so.11: cannot open shared object file: No such file or directory\n",
      "2021-11-19 00:40:17.112796: W tensorflow/stream_executor/platform/default/dso_loader.cc:64] Could not load dynamic library 'libcublasLt.so.11'; dlerror: libcublasLt.so.11: cannot open shared object file: No such file or directory\n",
      "2021-11-19 00:40:17.114365: W tensorflow/stream_executor/platform/default/dso_loader.cc:64] Could not load dynamic library 'libcusolver.so.11'; dlerror: libcusolver.so.11: cannot open shared object file: No such file or directory\n",
      "2021-11-19 00:40:17.114515: W tensorflow/stream_executor/platform/default/dso_loader.cc:64] Could not load dynamic library 'libcusparse.so.11'; dlerror: libcusparse.so.11: cannot open shared object file: No such file or directory\n",
      "2021-11-19 00:40:17.114579: W tensorflow/stream_executor/platform/default/dso_loader.cc:64] Could not load dynamic library 'libcudnn.so.8'; dlerror: libcudnn.so.8: cannot open shared object file: No such file or directory\n",
      "2021-11-19 00:40:17.114589: W tensorflow/core/common_runtime/gpu/gpu_device.cc:1835] Cannot dlopen some GPU libraries. Please make sure the missing libraries mentioned above are installed properly if you would like to use GPU. Follow the guide at https://www.tensorflow.org/install/gpu for how to download and setup the required libraries for your platform.\n",
      "Skipping registering GPU devices...\n",
      "2021-11-19 00:40:17.115324: I tensorflow/core/platform/cpu_feature_guard.cc:142] This TensorFlow binary is optimized with oneAPI Deep Neural Network Library (oneDNN) to use the following CPU instructions in performance-critical operations:  AVX2 FMA\n",
      "To enable them in other operations, rebuild TensorFlow with the appropriate compiler flags.\n"
     ]
    },
    {
     "name": "stdout",
     "output_type": "stream",
     "text": [
      "Model: \"sequential\"\n",
      "_________________________________________________________________\n",
      "Layer (type)                 Output Shape              Param #   \n",
      "=================================================================\n",
      "lstm (LSTM)                  (None, 5, 128)            66560     \n",
      "_________________________________________________________________\n",
      "dropout (Dropout)            (None, 5, 128)            0         \n",
      "_________________________________________________________________\n",
      "lstm_1 (LSTM)                (None, 64)                49408     \n",
      "_________________________________________________________________\n",
      "dropout_1 (Dropout)          (None, 64)                0         \n",
      "_________________________________________________________________\n",
      "dense (Dense)                (None, 1)                 65        \n",
      "=================================================================\n",
      "Total params: 116,033\n",
      "Trainable params: 116,033\n",
      "Non-trainable params: 0\n",
      "_________________________________________________________________\n"
     ]
    }
   ],
   "source": [
    "regressor = Sequential()\n",
    "\n",
    "# Adding the first LSTM layer and some Dropout regularisation\n",
    "# You must set return_sequences=True when stacking LSTM layers so that the second LSTM layer\n",
    "# has a compatible n-dimensional sequence input.\n",
    "# This hyper parameter should be set to False (which is the default value) for the last layer\n",
    "# and true for the other previous layers.\n",
    "\n",
    "regressor.add(LSTM(units = 128, activation = 'relu',return_sequences=True, input_shape = (trainX.shape[1], trainX.shape[2])))\n",
    "regressor.add(Dropout(0.2))\n",
    "\n",
    "# Adding a second LSTM layer and some Dropout regularisation\n",
    "regressor.add(LSTM(units = 64, input_shape = (trainX.shape[1], trainX.shape[2])))\n",
    "# regressor.add(LSTM(units = 64, return_sequences = True, input_shape = (trainX.shape[1], trainX.shape[2])))\n",
    "regressor.add(Dropout(0.2))\n",
    "# Note - If I plan to add 3-rd or 4-th layers of LSTM then \n",
    "# I must set return_sequences=True in the 2-nd layer above\n",
    "# so that the 3-rd LSTM layer has a compatible n-dimensional sequence input.\n",
    "\n",
    "\n",
    "# Adding a third LSTM layer and some Dropout regularisation\n",
    "# regressor.add(LSTM(units = 64, return_sequences = True, input_shape = (trainX.shape[1], trainX.shape[2])))\n",
    "# regressor.add(Dropout(0.2))\n",
    "\n",
    "\n",
    "# Adding a fourth LSTM layer and some Dropout regularisation\n",
    "# regressor.add(LSTM(units = 64, input_shape = (trainX.shape[1], trainX.shape[2])))\n",
    "# regressor.add(Dropout(0.2))\n",
    "\n",
    "\n",
    "# Adding the output layer\n",
    "regressor.add(Dense(units = 1))\n",
    "\n",
    "regressor.summary()\n"
   ]
  },
  {
   "cell_type": "code",
   "execution_count": 26,
   "metadata": {},
   "outputs": [
    {
     "name": "stdout",
     "output_type": "stream",
     "text": [
      "Epoch 1/600\n"
     ]
    },
    {
     "name": "stderr",
     "output_type": "stream",
     "text": [
      "2021-11-19 00:40:17.447564: I tensorflow/compiler/mlir/mlir_graph_optimization_pass.cc:185] None of the MLIR Optimization Passes are enabled (registered 2)\n"
     ]
    },
    {
     "name": "stdout",
     "output_type": "stream",
     "text": [
      "67/67 [==============================] - 3s 12ms/step - loss: 0.0159 - val_loss: 0.0673\n",
      "\n",
      "Epoch 00001: val_loss improved from inf to 0.06728, saving model to my_best_model.hdf5\n",
      "Epoch 2/600\n",
      "67/67 [==============================] - 0s 7ms/step - loss: 0.0256 - val_loss: 0.0142\n",
      "\n",
      "Epoch 00002: val_loss improved from 0.06728 to 0.01421, saving model to my_best_model.hdf5\n",
      "Epoch 3/600\n",
      "67/67 [==============================] - 1s 8ms/step - loss: 0.0040 - val_loss: 0.0187\n",
      "\n",
      "Epoch 00003: val_loss did not improve from 0.01421\n",
      "Epoch 4/600\n",
      "67/67 [==============================] - 0s 7ms/step - loss: 0.0029 - val_loss: 0.0142\n",
      "\n",
      "Epoch 00004: val_loss improved from 0.01421 to 0.01415, saving model to my_best_model.hdf5\n",
      "Epoch 5/600\n",
      "67/67 [==============================] - 0s 7ms/step - loss: 0.0014 - val_loss: 0.0147\n",
      "\n",
      "Epoch 00005: val_loss did not improve from 0.01415\n",
      "Epoch 6/600\n",
      "67/67 [==============================] - 0s 7ms/step - loss: 9.2841e-04 - val_loss: 0.0145\n",
      "\n",
      "Epoch 00006: val_loss did not improve from 0.01415\n",
      "Epoch 7/600\n",
      "67/67 [==============================] - 0s 7ms/step - loss: 9.3694e-04 - val_loss: 0.0154\n",
      "\n",
      "Epoch 00007: val_loss did not improve from 0.01415\n",
      "Epoch 8/600\n",
      "67/67 [==============================] - 1s 8ms/step - loss: 0.0010 - val_loss: 0.0140\n",
      "\n",
      "Epoch 00008: val_loss improved from 0.01415 to 0.01404, saving model to my_best_model.hdf5\n",
      "Epoch 9/600\n",
      "67/67 [==============================] - 0s 7ms/step - loss: 0.0017 - val_loss: 0.0142\n",
      "\n",
      "Epoch 00009: val_loss did not improve from 0.01404\n",
      "Epoch 10/600\n",
      "67/67 [==============================] - 0s 7ms/step - loss: 0.0028 - val_loss: 0.0164\n",
      "\n",
      "Epoch 00010: val_loss did not improve from 0.01404\n",
      "Epoch 11/600\n",
      "67/67 [==============================] - 0s 7ms/step - loss: 0.0041 - val_loss: 0.0245\n",
      "\n",
      "Epoch 00011: val_loss did not improve from 0.01404\n",
      "Epoch 12/600\n",
      "67/67 [==============================] - 1s 8ms/step - loss: 0.0027 - val_loss: 0.0175\n",
      "\n",
      "Epoch 00012: val_loss did not improve from 0.01404\n",
      "Epoch 13/600\n",
      "67/67 [==============================] - 0s 7ms/step - loss: 0.0014 - val_loss: 0.0136\n",
      "\n",
      "Epoch 00013: val_loss improved from 0.01404 to 0.01356, saving model to my_best_model.hdf5\n",
      "Epoch 14/600\n",
      "67/67 [==============================] - 0s 7ms/step - loss: 9.8276e-04 - val_loss: 0.0133\n",
      "\n",
      "Epoch 00014: val_loss improved from 0.01356 to 0.01332, saving model to my_best_model.hdf5\n",
      "Epoch 15/600\n",
      "67/67 [==============================] - 0s 7ms/step - loss: 9.5084e-04 - val_loss: 0.0132\n",
      "\n",
      "Epoch 00015: val_loss improved from 0.01332 to 0.01322, saving model to my_best_model.hdf5\n",
      "Epoch 16/600\n",
      "67/67 [==============================] - 0s 7ms/step - loss: 9.4896e-04 - val_loss: 0.0131\n",
      "\n",
      "Epoch 00016: val_loss improved from 0.01322 to 0.01312, saving model to my_best_model.hdf5\n",
      "Epoch 17/600\n",
      "67/67 [==============================] - 0s 7ms/step - loss: 0.0011 - val_loss: 0.0138\n",
      "\n",
      "Epoch 00017: val_loss did not improve from 0.01312\n",
      "Epoch 18/600\n",
      "67/67 [==============================] - 0s 7ms/step - loss: 0.0017 - val_loss: 0.0151\n",
      "\n",
      "Epoch 00018: val_loss did not improve from 0.01312\n",
      "Epoch 19/600\n",
      "67/67 [==============================] - 0s 7ms/step - loss: 0.0018 - val_loss: 0.0137\n",
      "\n",
      "Epoch 00019: val_loss did not improve from 0.01312\n",
      "Epoch 20/600\n",
      "67/67 [==============================] - 0s 6ms/step - loss: 0.0020 - val_loss: 0.0150\n",
      "\n",
      "Epoch 00020: val_loss did not improve from 0.01312\n",
      "Epoch 21/600\n",
      "67/67 [==============================] - 0s 7ms/step - loss: 0.0015 - val_loss: 0.0141\n",
      "\n",
      "Epoch 00021: val_loss did not improve from 0.01312\n",
      "Epoch 22/600\n",
      "67/67 [==============================] - 0s 7ms/step - loss: 0.0013 - val_loss: 0.0129\n",
      "\n",
      "Epoch 00022: val_loss improved from 0.01312 to 0.01293, saving model to my_best_model.hdf5\n",
      "Epoch 23/600\n",
      "67/67 [==============================] - 0s 7ms/step - loss: 0.0014 - val_loss: 0.0136\n",
      "\n",
      "Epoch 00023: val_loss did not improve from 0.01293\n",
      "Epoch 24/600\n",
      "67/67 [==============================] - 0s 7ms/step - loss: 0.0018 - val_loss: 0.0143\n",
      "\n",
      "Epoch 00024: val_loss did not improve from 0.01293\n",
      "Epoch 25/600\n",
      "67/67 [==============================] - 0s 7ms/step - loss: 0.0017 - val_loss: 0.0147\n",
      "\n",
      "Epoch 00025: val_loss did not improve from 0.01293\n",
      "Epoch 26/600\n",
      "67/67 [==============================] - 0s 6ms/step - loss: 0.0017 - val_loss: 0.0143\n",
      "\n",
      "Epoch 00026: val_loss did not improve from 0.01293\n",
      "Epoch 27/600\n",
      "67/67 [==============================] - 0s 6ms/step - loss: 0.0021 - val_loss: 0.0160\n",
      "\n",
      "Epoch 00027: val_loss did not improve from 0.01293\n",
      "Epoch 28/600\n",
      "67/67 [==============================] - 0s 7ms/step - loss: 0.0018 - val_loss: 0.0148\n",
      "\n",
      "Epoch 00028: val_loss did not improve from 0.01293\n",
      "Epoch 29/600\n",
      "67/67 [==============================] - 0s 7ms/step - loss: 0.0014 - val_loss: 0.0125\n",
      "\n",
      "Epoch 00029: val_loss improved from 0.01293 to 0.01246, saving model to my_best_model.hdf5\n",
      "Epoch 30/600\n",
      "67/67 [==============================] - 0s 7ms/step - loss: 9.7566e-04 - val_loss: 0.0124\n",
      "\n",
      "Epoch 00030: val_loss improved from 0.01246 to 0.01236, saving model to my_best_model.hdf5\n",
      "Epoch 31/600\n",
      "67/67 [==============================] - 0s 7ms/step - loss: 0.0010 - val_loss: 0.0124\n",
      "\n",
      "Epoch 00031: val_loss did not improve from 0.01236\n",
      "Epoch 32/600\n",
      "67/67 [==============================] - 0s 6ms/step - loss: 0.0010 - val_loss: 0.0122\n",
      "\n",
      "Epoch 00032: val_loss improved from 0.01236 to 0.01219, saving model to my_best_model.hdf5\n",
      "Epoch 33/600\n",
      "67/67 [==============================] - 0s 6ms/step - loss: 0.0012 - val_loss: 0.0125\n",
      "\n",
      "Epoch 00033: val_loss did not improve from 0.01219\n",
      "Epoch 34/600\n",
      "67/67 [==============================] - 0s 7ms/step - loss: 0.0016 - val_loss: 0.0137\n",
      "\n",
      "Epoch 00034: val_loss did not improve from 0.01219\n",
      "Epoch 35/600\n",
      "67/67 [==============================] - 0s 7ms/step - loss: 0.0016 - val_loss: 0.0130\n",
      "\n",
      "Epoch 00035: val_loss did not improve from 0.01219\n",
      "Epoch 36/600\n",
      "67/67 [==============================] - 0s 7ms/step - loss: 0.0014 - val_loss: 0.0128\n",
      "\n",
      "Epoch 00036: val_loss did not improve from 0.01219\n",
      "Epoch 37/600\n",
      "67/67 [==============================] - 1s 8ms/step - loss: 0.0016 - val_loss: 0.0127\n",
      "\n",
      "Epoch 00037: val_loss did not improve from 0.01219\n",
      "Epoch 38/600\n",
      "67/67 [==============================] - 0s 7ms/step - loss: 0.0014 - val_loss: 0.0129\n",
      "\n",
      "Epoch 00038: val_loss did not improve from 0.01219\n",
      "Epoch 39/600\n",
      "67/67 [==============================] - 0s 7ms/step - loss: 0.0015 - val_loss: 0.0126\n",
      "\n",
      "Epoch 00039: val_loss did not improve from 0.01219\n",
      "Epoch 40/600\n",
      "67/67 [==============================] - 0s 7ms/step - loss: 0.0015 - val_loss: 0.0131\n",
      "\n",
      "Epoch 00040: val_loss did not improve from 0.01219\n",
      "Epoch 41/600\n",
      "67/67 [==============================] - 0s 7ms/step - loss: 0.0014 - val_loss: 0.0124\n",
      "\n",
      "Epoch 00041: val_loss did not improve from 0.01219\n",
      "Epoch 42/600\n",
      "67/67 [==============================] - 0s 7ms/step - loss: 0.0012 - val_loss: 0.0123\n",
      "\n",
      "Epoch 00042: val_loss did not improve from 0.01219\n"
     ]
    }
   ],
   "source": [
    "from tensorflow.keras.callbacks import ModelCheckpoint, EarlyStopping\n",
    "\n",
    "# Compiling the LSTM\n",
    "regressor.compile(optimizer = 'adam', loss = 'mean_squared_error')\n",
    "\n",
    "checkpoint_path = 'my_best_model.hdf5'\n",
    "\n",
    "checkpoint = ModelCheckpoint(filepath=checkpoint_path, \n",
    "                             monitor='val_loss',\n",
    "                             verbose=1, \n",
    "                             save_best_only=True,\n",
    "                             mode='min')\n",
    "\n",
    "\n",
    "earlystopping = EarlyStopping(monitor='val_loss', patience=10, restore_best_weights=True)\n",
    "\n",
    "callbacks = [checkpoint, earlystopping]\n",
    "# callbacks = [checkpoint]\n",
    "\n",
    "\n",
    "history = regressor.fit(trainX, trainY, batch_size = 32, epochs = 600, verbose=1, shuffle=False, validation_data=(testX, testY), callbacks=callbacks)"
   ]
  },
  {
   "cell_type": "markdown",
   "metadata": {},
   "source": [
    "## Plot line graph to show Loss Numbers relative to the epoch"
   ]
  },
  {
   "cell_type": "code",
   "execution_count": 27,
   "metadata": {},
   "outputs": [],
   "source": [
    "from tensorflow.keras.models import load_model\n",
    "\n",
    "model_from_saved_checkpoint = load_model(checkpoint_path)"
   ]
  },
  {
   "cell_type": "code",
   "execution_count": 28,
   "metadata": {},
   "outputs": [
    {
     "data": {
      "image/png": "[encoded data removed]",
      "text/plain": [
       "<Figure size 1152x504 with 1 Axes>"
      ]
     },
     "metadata": {},
     "output_type": "display_data"
    }
   ],
   "source": [
    "plt.figure(figsize=(16,7))\n",
    "plt.plot(history.history['loss'], label='train')\n",
    "\n",
    "plt.plot(history.history['val_loss'], label='test')\n",
    "plt.legend()\n",
    "plt.show()"
   ]
  },
  {
   "cell_type": "markdown",
   "metadata": {},
   "source": [
    "# LSTM Predictions using testX and plotting line graph against Actual testY\n",
    "\n",
    "Due to scaling step done earlier with MinMaxScaler the predicted scale is between 0 and 1. \n",
    "Now, I need to transfer this scale to the original data scale (real value). for example:[0.58439621 0.58439621 0.58439621 ... 0.81262134 0.81262134 0.81262134], the pred answer transfer to :[250 100 50 60 .....]\n",
    "So here I am going to use `inverse_transform` to Scale back the data to the original representation."
   ]
  },
  {
   "cell_type": "code",
   "execution_count": 29,
   "metadata": {},
   "outputs": [],
   "source": [
    "# Transformation to original form and making the predictions\n",
    "\n",
    "# predicted_btc_price_test_data = regressor.predict(testX)\n",
    "predicted_btc_price_test_data = model_from_saved_checkpoint.predict(testX)\n",
    "\n",
    "predicted_btc_price_test_data = scaler_test.inverse_transform(predicted_btc_price_test_data.reshape(-1, 1))\n",
    "\n",
    "test_actual = scaler_test.inverse_transform(testY.reshape(-1, 1))"
   ]
  },
  {
   "cell_type": "code",
   "execution_count": 30,
   "metadata": {},
   "outputs": [
    {
     "data": {
      "image/png": "[encoded data removed]",
      "text/plain": [
       "<Figure size 1152x504 with 1 Axes>"
      ]
     },
     "metadata": {},
     "output_type": "display_data"
    }
   ],
   "source": [
    "plt.figure(figsize=(16,7))\n",
    "\n",
    "plt.plot(predicted_btc_price_test_data, 'r', marker='.', label='Predicted Test')\n",
    "\n",
    "plt.plot(test_actual, marker='.', label='Actual Test')\n",
    "\n",
    "plt.legend()\n",
    "plt.show()"
   ]
  },
  {
   "cell_type": "markdown",
   "metadata": {},
   "source": [
    "# LSTM Prediction using trainX and plotting line graph against Actual trainY"
   ]
  },
  {
   "cell_type": "code",
   "execution_count": 31,
   "metadata": {},
   "outputs": [],
   "source": [
    "# Transformation to original form and making the predictions\n",
    "\n",
    "predicted_btc_price_train_data = model_from_saved_checkpoint.predict(trainX)\n",
    "\n",
    "predicted_btc_price_train_data = scaler_train.inverse_transform(predicted_btc_price_train_data.reshape(-1, 1))\n",
    "\n",
    "train_actual = scaler_train.inverse_transform(trainY.reshape(-1, 1))"
   ]
  },
  {
   "cell_type": "code",
   "execution_count": 32,
   "metadata": {},
   "outputs": [
    {
     "data": {
      "image/png": "[encoded data removed]",
      "text/plain": [
       "<Figure size 1152x504 with 1 Axes>"
      ]
     },
     "metadata": {},
     "output_type": "display_data"
    }
   ],
   "source": [
    "plt.figure(figsize=(16,7))\n",
    "\n",
    "plt.plot(predicted_btc_price_train_data, 'r', marker='.', label='Predicted Train')\n",
    "\n",
    "plt.plot(train_actual, marker='.', label='Actual Train')\n",
    "\n",
    "plt.legend()\n",
    "plt.show()"
   ]
  },
  {
   "cell_type": "markdown",
   "metadata": {},
   "source": [
    "# RMSE - Test Data"
   ]
  },
  {
   "cell_type": "code",
   "execution_count": 33,
   "metadata": {},
   "outputs": [
    {
     "name": "stdout",
     "output_type": "stream",
     "text": [
      "Test RMSE: 2554.506\n"
     ]
    }
   ],
   "source": [
    "rmse_lstm_test = math.sqrt(mean_squared_error(test_actual, predicted_btc_price_test_data))\n",
    "\n",
    "print('Test RMSE: %.3f' % rmse_lstm_test)\n",
    "\n",
    "# With 2 Layers + Dropout + lookback=5 => I got - Test RMSE: 1666.162  => This seems best\n"
   ]
  },
  {
   "cell_type": "markdown",
   "metadata": {},
   "source": [
    "# RMSE - Train Data"
   ]
  },
  {
   "cell_type": "code",
   "execution_count": 54,
   "metadata": {},
   "outputs": [
    {
     "name": "stdout",
     "output_type": "stream",
     "text": [
      "Test RMSE: 937.070\n"
     ]
    }
   ],
   "source": [
    "rmse_lstm_train = math.sqrt(mean_squared_error(train_actual, predicted_btc_price_train_data))\n",
    "\n",
    "print('Test RMSE: %.3f' % rmse_lstm_train)\n",
    "\n",
    "# With 2 Layers + Dropout + lookback=5 => I got - Test RMSE: 1047.916  => This seems best"
   ]
  },
  {
   "cell_type": "markdown",
   "metadata": {},
   "source": [
    "# Now Future Price Predictions - For 5 Days beyond the actual trading days for which I dont have the ground truth data (i.e. for 5-days into future for which I dont have actual Trading Price yet)\n",
    "\n",
    "Note that the original Trading data (the .csv file used at the very top of this notebook) ended on 30-Oct-2021, but now I am going to forecast the Bitcoin Prices for 5 days beyond 30-Oct-2021, using the trained LSTM model above.\n",
    "\n",
    "First check the shape of testX\n",
    "\n",
    "Basically to predict tomorrow's value, \n",
    "\n",
    "- feed into the model the past n(look_back) days’ values and we get tomorrow’s value as output.\n",
    "\n",
    "- Similarly, to get the day after tomorrow’s value, feed-in past n-1 days’ values along with tomorrow’s value and the model output day after tomorrow’s value."
   ]
  },
  {
   "cell_type": "code",
   "execution_count": 35,
   "metadata": {},
   "outputs": [
    {
     "data": {
      "text/plain": [
       "(55, 5, 1)"
      ]
     },
     "execution_count": 35,
     "metadata": {},
     "output_type": "execute_result"
    }
   ],
   "source": [
    "testX\n",
    "testX.shape"
   ]
  },
  {
   "cell_type": "code",
   "execution_count": 36,
   "metadata": {},
   "outputs": [
    {
     "data": {
      "text/plain": [
       "(5, 5, 1)"
      ]
     },
     "execution_count": 36,
     "metadata": {},
     "output_type": "execute_result"
    }
   ],
   "source": [
    "lookback_period = 5\n",
    "\n",
    "# That is the original Trading data ended on 30-Oct-2021, but now I am going to forecast for Future 5 days beyond 30-Oct-2021\n",
    "\n",
    "testX_last_5_days = testX[testX.shape[0] - lookback_period :  ]\n",
    "\n",
    "testX_last_5_days.shape"
   ]
  },
  {
   "cell_type": "code",
   "execution_count": 37,
   "metadata": {},
   "outputs": [
    {
     "data": {
      "text/plain": [
       "array([[[0.97247556],\n",
       "        [0.87962325],\n",
       "        [0.83248555],\n",
       "        [0.81613368],\n",
       "        [0.89829139]],\n",
       "\n",
       "       [[0.87962325],\n",
       "        [0.83248555],\n",
       "        [0.81613368],\n",
       "        [0.89829139],\n",
       "        [0.88503214]],\n",
       "\n",
       "       [[0.83248555],\n",
       "        [0.81613368],\n",
       "        [0.89829139],\n",
       "        [0.88503214],\n",
       "        [0.76423277]],\n",
       "\n",
       "       [[0.81613368],\n",
       "        [0.89829139],\n",
       "        [0.88503214],\n",
       "        [0.76423277],\n",
       "        [0.7963598 ]],\n",
       "\n",
       "       [[0.89829139],\n",
       "        [0.88503214],\n",
       "        [0.76423277],\n",
       "        [0.7963598 ],\n",
       "        [0.85391712]]])"
      ]
     },
     "execution_count": 37,
     "metadata": {},
     "output_type": "execute_result"
    }
   ],
   "source": [
    "testX_last_5_days"
   ]
  },
  {
   "cell_type": "code",
   "execution_count": 38,
   "metadata": {},
   "outputs": [
    {
     "name": "stdout",
     "output_type": "stream",
     "text": [
      "Forecast for the next 5 Days Beyond the actual trading days  [[[62082.953]]\n",
      "\n",
      " [[61703.562]]\n",
      "\n",
      " [[61393.008]]\n",
      "\n",
      " [[61230.02 ]]\n",
      "\n",
      " [[61272.355]]]\n"
     ]
    }
   ],
   "source": [
    "\n",
    "predicted_5_days_forecast_price_test_x = []\n",
    "\n",
    "for i in range(5):  \n",
    "  predicted_forecast_price_test_x = model_from_saved_checkpoint.predict(testX_last_5_days[i:i+1])\n",
    "  \n",
    "  predicted_forecast_price_test_x = scaler_test.inverse_transform(predicted_forecast_price_test_x.reshape(-1, 1))\n",
    "  # print(predicted_forecast_price_test_x)\n",
    "  predicted_5_days_forecast_price_test_x.append(predicted_forecast_price_test_x)\n",
    "  \n",
    "print(\"Forecast for the next 5 Days Beyond the actual trading days \", np.array(predicted_5_days_forecast_price_test_x)) \n",
    "# That is the original Trading data ended on 30-Oct-2021, but now I am going to forecast beyond 30-Oct-2021"
   ]
  },
  {
   "cell_type": "code",
   "execution_count": 43,
   "metadata": {},
   "outputs": [
    {
     "data": {
      "text/plain": [
       "(5, 1, 1)"
      ]
     },
     "execution_count": 43,
     "metadata": {},
     "output_type": "execute_result"
    }
   ],
   "source": [
    "predicted_5_days_forecast_price_test_x = np.array(predicted_5_days_forecast_price_test_x)\n",
    "\n",
    "predicted_5_days_forecast_price_test_x.shape"
   ]
  },
  {
   "cell_type": "code",
   "execution_count": 44,
   "metadata": {},
   "outputs": [
    {
     "data": {
      "text/plain": [
       "(55, 1)"
      ]
     },
     "execution_count": 44,
     "metadata": {},
     "output_type": "execute_result"
    }
   ],
   "source": [
    "predicted_btc_price_test_data.shape"
   ]
  },
  {
   "cell_type": "code",
   "execution_count": 45,
   "metadata": {},
   "outputs": [
    {
     "data": {
      "text/plain": [
       "array([[50202.566],\n",
       "       [50958.9  ],\n",
       "       [51149.45 ],\n",
       "       [50704.406],\n",
       "       [49954.76 ],\n",
       "       [48964.516],\n",
       "       [47576.363],\n",
       "       [46618.855],\n",
       "       [46333.062],\n",
       "       [46157.562],\n",
       "       [46383.316],\n",
       "       [46903.832],\n",
       "       [47400.695],\n",
       "       [48120.46 ],\n",
       "       [48507.754],\n",
       "       [48112.824],\n",
       "       [47079.258],\n",
       "       [45869.832],\n",
       "       [44749.324],\n",
       "       [43827.164],\n",
       "       [43500.23 ],\n",
       "       [43548.414],\n",
       "       [43652.703],\n",
       "       [43326.48 ],\n",
       "       [43119.207],\n",
       "       [43152.957],\n",
       "       [43632.45 ],\n",
       "       [44502.547],\n",
       "       [45841.598],\n",
       "       [47229.406],\n",
       "       [48590.113],\n",
       "       [49827.543],\n",
       "       [51115.56 ],\n",
       "       [52509.15 ],\n",
       "       [53884.613],\n",
       "       [54884.516],\n",
       "       [55535.21 ],\n",
       "       [55990.887],\n",
       "       [56368.812],\n",
       "       [56855.223],\n",
       "       [57621.105],\n",
       "       [58423.92 ],\n",
       "       [59294.023],\n",
       "       [60362.41 ],\n",
       "       [61255.676],\n",
       "       [62065.57 ],\n",
       "       [62660.637],\n",
       "       [63052.258],\n",
       "       [63010.055],\n",
       "       [62644.703],\n",
       "       [62082.96 ],\n",
       "       [61703.562],\n",
       "       [61393.008],\n",
       "       [61230.02 ],\n",
       "       [61272.355]], dtype=float32)"
      ]
     },
     "execution_count": 45,
     "metadata": {},
     "output_type": "execute_result"
    }
   ],
   "source": [
    "predicted_btc_price_test_data"
   ]
  },
  {
   "cell_type": "code",
   "execution_count": 46,
   "metadata": {},
   "outputs": [
    {
     "data": {
      "text/plain": [
       "array([[[62082.953]],\n",
       "\n",
       "       [[61703.562]],\n",
       "\n",
       "       [[61393.008]],\n",
       "\n",
       "       [[61230.02 ]],\n",
       "\n",
       "       [[61272.355]]], dtype=float32)"
      ]
     },
     "execution_count": 46,
     "metadata": {},
     "output_type": "execute_result"
    }
   ],
   "source": [
    "predicted_5_days_forecast_price_test_x"
   ]
  },
  {
   "cell_type": "code",
   "execution_count": 49,
   "metadata": {},
   "outputs": [
    {
     "data": {
      "text/plain": [
       "array([62082.953, 61703.562, 61393.008, 61230.02 , 61272.355],\n",
       "      dtype=float32)"
      ]
     },
     "execution_count": 49,
     "metadata": {},
     "output_type": "execute_result"
    }
   ],
   "source": [
    "\n",
    "predicted_5_days_forecast_price_test_x = predicted_5_days_forecast_price_test_x.flatten()\n",
    "\n",
    "predicted_5_days_forecast_price_test_x\n"
   ]
  },
  {
   "cell_type": "code",
   "execution_count": 50,
   "metadata": {},
   "outputs": [
    {
     "data": {
      "text/plain": [
       "array([50202.566, 50958.9  , 51149.45 , 50704.406, 49954.76 , 48964.516,\n",
       "       47576.363, 46618.855, 46333.062, 46157.562, 46383.316, 46903.832,\n",
       "       47400.695, 48120.46 , 48507.754, 48112.824, 47079.258, 45869.832,\n",
       "       44749.324, 43827.164, 43500.23 , 43548.414, 43652.703, 43326.48 ,\n",
       "       43119.207, 43152.957, 43632.45 , 44502.547, 45841.598, 47229.406,\n",
       "       48590.113, 49827.543, 51115.56 , 52509.15 , 53884.613, 54884.516,\n",
       "       55535.21 , 55990.887, 56368.812, 56855.223, 57621.105, 58423.92 ,\n",
       "       59294.023, 60362.41 , 61255.676, 62065.57 , 62660.637, 63052.258,\n",
       "       63010.055, 62644.703, 62082.96 , 61703.562, 61393.008, 61230.02 ,\n",
       "       61272.355], dtype=float32)"
      ]
     },
     "execution_count": 50,
     "metadata": {},
     "output_type": "execute_result"
    }
   ],
   "source": [
    "predicted_btc_price_test_data = predicted_btc_price_test_data.flatten()\n",
    "\n",
    "predicted_btc_price_test_data"
   ]
  },
  {
   "cell_type": "code",
   "execution_count": 55,
   "metadata": {},
   "outputs": [
    {
     "data": {
      "text/plain": [
       "(60,)"
      ]
     },
     "execution_count": 55,
     "metadata": {},
     "output_type": "execute_result"
    }
   ],
   "source": [
    "predicted_btc_test_concatenated = np.concatenate((predicted_btc_price_test_data, predicted_5_days_forecast_price_test_x))\n",
    "\n",
    "predicted_btc_test_concatenated\n",
    "\n",
    "predicted_btc_test_concatenated.shape\n"
   ]
  },
  {
   "cell_type": "markdown",
   "metadata": {},
   "source": [
    "# Finally Plot entire Predictions of Test Data (including the Future 5-days ) against Actual testY"
   ]
  },
  {
   "cell_type": "code",
   "execution_count": 57,
   "metadata": {},
   "outputs": [
    {
     "data": {
      "image/png": "[encoded data removed]",
      "text/plain": [
       "<Figure size 1152x504 with 1 Axes>"
      ]
     },
     "metadata": {},
     "output_type": "display_data"
    }
   ],
   "source": [
    "plt.figure(figsize=(16,7))\n",
    "\n",
    "plt.plot(predicted_btc_test_concatenated, 'r', marker='.', label='Predicted Test')\n",
    "\n",
    "plt.plot(test_actual, marker='.', label='Actual Test')\n",
    "\n",
    "plt.legend()\n",
    "\n",
    "plt.show()"
   ]
  },
  {
   "cell_type": "markdown",
   "metadata": {},
   "source": [
    "## Bonus - Further work to improving overall result from the above LSTM\n",
    "\n",
    "\n",
    "* According to this [Study](https://d-nb.info/1185667245/34) - they got best results by utilizing as inputs different cryptocurrency data ( BTC, ETH and Ripple (XRP)) and handles them independently in order to exploit useful information from each cryptocurrency separately.\n",
    "\n",
    "* Further, in this video, for the sake of simplicity, I only created a single dimensional model using the Close price only. I could use all of Open, High, Low, Close and Volume to predict the Closing prices. And that would be a MULTIDIMENSIONAL LSTM prediction, which could have improved the accuracy of the model.\n",
    "\n",
    "* Also to improve prediction, some ideas might be to include technical indicators as another set of input variables.\n",
    "\n",
    "* Making the input time-series data stationary\n",
    "\n",
    "* Adding more layers to my LSTM model - When you add layers you are increasing the depth of the neural network. And generally, adding more layers will help you to extract more features. But we can do that upto a certain extent. There is a limit. After that, instead of extracting features, we tend to ‘overfit’ the data. Overfitting can lead to errors in some or the other form. So, we are supposed to experiment around this to check which gives best result, taking into considerations factors like over fitting, which may happen specially when you increase the complexity of a model."
   ]
  },
  {
   "cell_type": "markdown",
   "metadata": {},
   "source": [
    "### Choosing the right amount of nodes and layers\n",
    "\n",
    "There is no final, definite, rule of thumb on how many nodes (or hidden neurons) or how many layers one should choose, and very often a trial and error approach will give you the best results for your individual problem. The most common framework for this is most likely the k-fold cross-validation. However, even for a testing procedure, we need to choose some (k) numbers of nodes.\n",
    "The [following formula](https://stats.stackexchange.com/questions/181/how-to-choose-the-number-of-hidden-layers-and-nodes-in-a-feedforward-neural-netw) may give you a starting point:\n",
    "\n",
    "![](assets/2022-03-29-02-11-50.png)"
   ]
  },
  {
   "cell_type": "markdown",
   "metadata": {},
   "source": [
    "### What is a stationary Time Series\n",
    "\n",
    "- Stationarity means that the statistical properties of a time series (or rather the process generating it) do not change over time.\n",
    "- Stationarity is important because many useful analytical tools and statistical tests and models rely on it.\n",
    "\n",
    "It does not mean that the series does not change over time, just that the way it changes does not itself change over time.\n",
    "\n",
    "\n",
    "If you have a time series where you learn the relationship between the past N points and the next point, and then you apply that to a different set of N points to predict the next value, you are implicitly assuming that the same relationship holds between the N predictor points and the following N+1st point you're trying to predict. That's stationarity.\n",
    "\n",
    "#### Dickey-Fuller test is used to check for Stationarity\n",
    "\n",
    "## Do LSTM requires its data to be stationary ?\n",
    "\n",
    "In principle we do not need to check for stationarity nor correct for it when we are using an LSTM. However, if the data is stationary, it will help with better performance and make it easier for the neural network to learn."
   ]
  }
 ],
 "metadata": {
  "interpreter": {
   "hash": "f9f85f796d01129d0dd105a088854619f454435301f6ffec2fea96ecbd9be4ac"
  },
  "kernelspec": {
   "display_name": "Python 3.9.7 64-bit",
   "name": "python3"
  },
  "language_info": {
   "codemirror_mode": {
    "name": "ipython",
    "version": 3
   },
   "file_extension": ".py",
   "mimetype": "text/x-python",
   "name": "python",
   "nbconvert_exporter": "python",
   "pygments_lexer": "ipython3",
   "version": "3.9.9"
  },
  "orig_nbformat": 4
 },
 "nbformat": 4,
 "nbformat_minor": 2
}
