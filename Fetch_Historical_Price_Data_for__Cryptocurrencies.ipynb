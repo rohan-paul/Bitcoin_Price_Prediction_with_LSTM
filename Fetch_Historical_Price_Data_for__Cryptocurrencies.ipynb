{
 "cells": [
  {
   "cell_type": "markdown",
   "metadata": {},
   "source": [
    "<h1 style=\"font-size:250%; font-family:cursive; color:#ff6666;\"><b>Get Bitcoin Historic Data For Free with Python - Detailed Video in my YouTube Channel</b><a id=\"0\"></a></h1>\n",
    "\n",
    "<a href=\"https://bit.ly/3mwv2kJ\"><h1 style=\"font-size:250%; font-family:cursive; color:#ff6666;\"><b>Link to my YouTube Video</b></h1></a>\n",
    "\n",
    "[![IMAGE ALT TEXT](https://imgur.com/ZvzhIdK.png)](https://bit.ly/3mwv2kJ \"Get Bitcoin Historic Data For Free with Python - Detailed Video in my YouTube Channel\")"
   ]
  },
  {
   "cell_type": "code",
   "execution_count": 2,
   "metadata": {},
   "outputs": [],
   "source": [
    "# If running in Colab - you first need to install the package ( Historic-Crypto )\n",
    "# !pip install Historic-Crypto\n",
    "\n",
    "import warnings\n",
    "warnings.filterwarnings(\"ignore\")\n",
    "\n",
    "from Historic_Crypto import HistoricalData"
   ]
  },
  {
   "cell_type": "markdown",
   "metadata": {},
   "source": [
    "The arguments for the class are listed below:\n",
    "\n",
    "| Argument | Description |\n",
    "| ------ | --------- |\n",
    "| ticker | supply the ticker information which you want to return (str). |\n",
    "| granularity | please supply a granularity in seconds (60, 300, 900, 3600, 21600, 86400) (int). |\n",
    "| start_date | a string in the format YYYY-MM-DD-HH-MM (str).  |\n",
    "| end_date | a string in the format YYYY-MM-DD-HH-MM (str). **Optional, Default: Now** |\n",
    "| verbose | printing during extraction. **Default: True** |\n"
   ]
  },
  {
   "cell_type": "markdown",
   "metadata": {},
   "source": [
    "## Code to fetch Bitcoin Historic Prices from Oct-2015 to Oct-2021 using [Historic Crypto](https://pypi.org/project/Historic-Crypto/) package\n"
   ]
  },
  {
   "cell_type": "code",
   "execution_count": 3,
   "metadata": {},
   "outputs": [
    {
     "name": "stdout",
     "output_type": "stream",
     "text": [
      "Checking input parameters are in the correct format...\n",
      "Formatting Dates...\n",
      "Checking if ticker supplied is available on the CoinBase Pro API...\n",
      "Connected to the CoinBase Pro API...\n",
      "Ticker 'BTC-USD' found at the CoinBase Pro API, continuing to extraction...\n",
      "Data for chunk 0 of 4 extracted\n",
      "Data for chunk 1 of 4 extracted\n",
      "Data for chunk 2 of 4 extracted\n",
      "Data for chunk 3 of 4 extracted\n",
      "Data for chunk 4 of 4 extracted\n"
     ]
    }
   ],
   "source": [
    "btc_historicals = HistoricalData('BTC-USD',60,'2021-10-29-00-00', '2021-10-30-00-00').retrieve_data()"
   ]
  },
  {
   "cell_type": "code",
   "execution_count": 8,
   "metadata": {},
   "outputs": [
    {
     "data": {
      "text/html": [
       "<div>\n",
       "<style scoped>\n",
       "    .dataframe tbody tr th:only-of-type {\n",
       "        vertical-align: middle;\n",
       "    }\n",
       "\n",
       "    .dataframe tbody tr th {\n",
       "        vertical-align: top;\n",
       "    }\n",
       "\n",
       "    .dataframe thead th {\n",
       "        text-align: right;\n",
       "    }\n",
       "</style>\n",
       "<table border=\"1\" class=\"dataframe\">\n",
       "  <thead>\n",
       "    <tr style=\"text-align: right;\">\n",
       "      <th></th>\n",
       "      <th>low</th>\n",
       "      <th>high</th>\n",
       "      <th>open</th>\n",
       "      <th>close</th>\n",
       "      <th>volume</th>\n",
       "    </tr>\n",
       "    <tr>\n",
       "      <th>time</th>\n",
       "      <th></th>\n",
       "      <th></th>\n",
       "      <th></th>\n",
       "      <th></th>\n",
       "      <th></th>\n",
       "    </tr>\n",
       "  </thead>\n",
       "  <tbody>\n",
       "    <tr>\n",
       "      <th>2021-10-29 00:01:00</th>\n",
       "      <td>60552.64</td>\n",
       "      <td>60751.32</td>\n",
       "      <td>60577.62</td>\n",
       "      <td>60722.65</td>\n",
       "      <td>43.818775</td>\n",
       "    </tr>\n",
       "    <tr>\n",
       "      <th>2021-10-29 00:02:00</th>\n",
       "      <td>60615.48</td>\n",
       "      <td>60804.16</td>\n",
       "      <td>60721.59</td>\n",
       "      <td>60701.95</td>\n",
       "      <td>25.941480</td>\n",
       "    </tr>\n",
       "    <tr>\n",
       "      <th>2021-10-29 00:03:00</th>\n",
       "      <td>60451.02</td>\n",
       "      <td>60722.95</td>\n",
       "      <td>60712.02</td>\n",
       "      <td>60476.71</td>\n",
       "      <td>18.321852</td>\n",
       "    </tr>\n",
       "    <tr>\n",
       "      <th>2021-10-29 00:04:00</th>\n",
       "      <td>60413.96</td>\n",
       "      <td>60577.65</td>\n",
       "      <td>60466.92</td>\n",
       "      <td>60570.27</td>\n",
       "      <td>14.422616</td>\n",
       "    </tr>\n",
       "    <tr>\n",
       "      <th>2021-10-29 00:05:00</th>\n",
       "      <td>60568.81</td>\n",
       "      <td>60774.94</td>\n",
       "      <td>60575.57</td>\n",
       "      <td>60731.10</td>\n",
       "      <td>14.229798</td>\n",
       "    </tr>\n",
       "  </tbody>\n",
       "</table>\n",
       "</div>"
      ],
      "text/plain": [
       "                          low      high      open     close     volume\n",
       "time                                                                  \n",
       "2021-10-29 00:01:00  60552.64  60751.32  60577.62  60722.65  43.818775\n",
       "2021-10-29 00:02:00  60615.48  60804.16  60721.59  60701.95  25.941480\n",
       "2021-10-29 00:03:00  60451.02  60722.95  60712.02  60476.71  18.321852\n",
       "2021-10-29 00:04:00  60413.96  60577.65  60466.92  60570.27  14.422616\n",
       "2021-10-29 00:05:00  60568.81  60774.94  60575.57  60731.10  14.229798"
      ]
     },
     "execution_count": 8,
     "metadata": {},
     "output_type": "execute_result"
    }
   ],
   "source": [
    "btc_historicals.head()"
   ]
  },
  {
   "cell_type": "code",
   "execution_count": 9,
   "metadata": {},
   "outputs": [
    {
     "data": {
      "text/html": [
       "<div>\n",
       "<style scoped>\n",
       "    .dataframe tbody tr th:only-of-type {\n",
       "        vertical-align: middle;\n",
       "    }\n",
       "\n",
       "    .dataframe tbody tr th {\n",
       "        vertical-align: top;\n",
       "    }\n",
       "\n",
       "    .dataframe thead th {\n",
       "        text-align: right;\n",
       "    }\n",
       "</style>\n",
       "<table border=\"1\" class=\"dataframe\">\n",
       "  <thead>\n",
       "    <tr style=\"text-align: right;\">\n",
       "      <th></th>\n",
       "      <th>low</th>\n",
       "      <th>high</th>\n",
       "      <th>open</th>\n",
       "      <th>close</th>\n",
       "      <th>volume</th>\n",
       "    </tr>\n",
       "    <tr>\n",
       "      <th>time</th>\n",
       "      <th></th>\n",
       "      <th></th>\n",
       "      <th></th>\n",
       "      <th></th>\n",
       "      <th></th>\n",
       "    </tr>\n",
       "  </thead>\n",
       "  <tbody>\n",
       "    <tr>\n",
       "      <th>2021-10-30 00:56:00</th>\n",
       "      <td>61858.27</td>\n",
       "      <td>61996.81</td>\n",
       "      <td>61976.27</td>\n",
       "      <td>61905.36</td>\n",
       "      <td>7.238153</td>\n",
       "    </tr>\n",
       "    <tr>\n",
       "      <th>2021-10-30 00:57:00</th>\n",
       "      <td>61887.44</td>\n",
       "      <td>61983.23</td>\n",
       "      <td>61902.46</td>\n",
       "      <td>61934.71</td>\n",
       "      <td>4.104854</td>\n",
       "    </tr>\n",
       "    <tr>\n",
       "      <th>2021-10-30 00:58:00</th>\n",
       "      <td>61915.90</td>\n",
       "      <td>62011.21</td>\n",
       "      <td>61934.70</td>\n",
       "      <td>61960.23</td>\n",
       "      <td>24.712960</td>\n",
       "    </tr>\n",
       "    <tr>\n",
       "      <th>2021-10-30 00:59:00</th>\n",
       "      <td>61925.26</td>\n",
       "      <td>62003.03</td>\n",
       "      <td>61979.28</td>\n",
       "      <td>61943.99</td>\n",
       "      <td>14.810485</td>\n",
       "    </tr>\n",
       "    <tr>\n",
       "      <th>2021-10-30 01:00:00</th>\n",
       "      <td>61892.01</td>\n",
       "      <td>61944.01</td>\n",
       "      <td>61944.00</td>\n",
       "      <td>61924.71</td>\n",
       "      <td>7.409878</td>\n",
       "    </tr>\n",
       "  </tbody>\n",
       "</table>\n",
       "</div>"
      ],
      "text/plain": [
       "                          low      high      open     close     volume\n",
       "time                                                                  \n",
       "2021-10-30 00:56:00  61858.27  61996.81  61976.27  61905.36   7.238153\n",
       "2021-10-30 00:57:00  61887.44  61983.23  61902.46  61934.71   4.104854\n",
       "2021-10-30 00:58:00  61915.90  62011.21  61934.70  61960.23  24.712960\n",
       "2021-10-30 00:59:00  61925.26  62003.03  61979.28  61943.99  14.810485\n",
       "2021-10-30 01:00:00  61892.01  61944.01  61944.00  61924.71   7.409878"
      ]
     },
     "execution_count": 9,
     "metadata": {},
     "output_type": "execute_result"
    }
   ],
   "source": [
    "btc_historicals.tail()"
   ]
  },
  {
   "cell_type": "code",
   "execution_count": 4,
   "metadata": {},
   "outputs": [
    {
     "data": {
      "text/plain": [
       "(1500, 5)"
      ]
     },
     "execution_count": 4,
     "metadata": {},
     "output_type": "execute_result"
    }
   ],
   "source": [
    "btc_historicals.shape"
   ]
  }
 ],
 "metadata": {
  "interpreter": {
   "hash": "f9f85f796d01129d0dd105a088854619f454435301f6ffec2fea96ecbd9be4ac"
  },
  "kernelspec": {
   "display_name": "Python 3.9.7 64-bit",
   "name": "python3"
  },
  "language_info": {
   "codemirror_mode": {
    "name": "ipython",
    "version": 3
   },
   "file_extension": ".py",
   "mimetype": "text/x-python",
   "name": "python",
   "nbconvert_exporter": "python",
   "pygments_lexer": "ipython3",
   "version": "3.9.7"
  }
 },
 "nbformat": 4,
 "nbformat_minor": 4
}
